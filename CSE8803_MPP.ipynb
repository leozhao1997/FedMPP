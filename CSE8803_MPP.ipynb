{
  "nbformat": 4,
  "nbformat_minor": 0,
  "metadata": {
    "colab": {
      "provenance": [],
      "toc_visible": true
    },
    "kernelspec": {
      "name": "python3",
      "display_name": "Python 3"
    },
    "language_info": {
      "name": "python"
    },
    "gpuClass": "standard"
  },
  "cells": [
    {
      "cell_type": "code",
      "execution_count": 2,
      "metadata": {
        "id": "XWQGBQwshUq2",
        "colab": {
          "base_uri": "https://localhost:8080/"
        },
        "outputId": "c023644f-cb51-4501-8787-07aa709466cc"
      },
      "outputs": [
        {
          "output_type": "stream",
          "name": "stdout",
          "text": [
            "Mounted at /content/drive\n"
          ]
        }
      ],
      "source": [
        "from google.colab import drive\n",
        "drive.mount('/content/drive')"
      ]
    },
    {
      "cell_type": "code",
      "source": [
        "!pip install arrow\n",
        "!pip install geopandas\n",
        "# !pip install osmnx==1.1.1\n",
        "# !pip install pandana\n",
        "!pip install haversine\n",
        "!pip install --upgrade folium\n",
        "!pip install --upgrade statsmodels"
      ],
      "metadata": {
        "colab": {
          "base_uri": "https://localhost:8080/"
        },
        "id": "3UdiXQ6wtt94",
        "outputId": "d63d786a-5e56-49c9-e57f-2c2d802b863a"
      },
      "execution_count": 3,
      "outputs": [
        {
          "output_type": "stream",
          "name": "stdout",
          "text": [
            "Looking in indexes: https://pypi.org/simple, https://us-python.pkg.dev/colab-wheels/public/simple/\n",
            "Collecting arrow\n",
            "  Downloading arrow-1.2.3-py3-none-any.whl (66 kB)\n",
            "\u001b[K     |████████████████████████████████| 66 kB 2.6 MB/s \n",
            "\u001b[?25hRequirement already satisfied: python-dateutil>=2.7.0 in /usr/local/lib/python3.7/dist-packages (from arrow) (2.8.2)\n",
            "Requirement already satisfied: typing-extensions in /usr/local/lib/python3.7/dist-packages (from arrow) (4.1.1)\n",
            "Requirement already satisfied: six>=1.5 in /usr/local/lib/python3.7/dist-packages (from python-dateutil>=2.7.0->arrow) (1.15.0)\n",
            "Installing collected packages: arrow\n",
            "Successfully installed arrow-1.2.3\n",
            "Looking in indexes: https://pypi.org/simple, https://us-python.pkg.dev/colab-wheels/public/simple/\n",
            "Collecting geopandas\n",
            "  Downloading geopandas-0.10.2-py2.py3-none-any.whl (1.0 MB)\n",
            "\u001b[K     |████████████████████████████████| 1.0 MB 6.4 MB/s \n",
            "\u001b[?25hRequirement already satisfied: pandas>=0.25.0 in /usr/local/lib/python3.7/dist-packages (from geopandas) (1.3.5)\n",
            "Collecting pyproj>=2.2.0\n",
            "  Downloading pyproj-3.2.1-cp37-cp37m-manylinux2010_x86_64.whl (6.3 MB)\n",
            "\u001b[K     |████████████████████████████████| 6.3 MB 33.5 MB/s \n",
            "\u001b[?25hCollecting fiona>=1.8\n",
            "  Downloading Fiona-1.8.22-cp37-cp37m-manylinux2014_x86_64.whl (16.7 MB)\n",
            "\u001b[K     |████████████████████████████████| 16.7 MB 23.1 MB/s \n",
            "\u001b[?25hRequirement already satisfied: shapely>=1.6 in /usr/local/lib/python3.7/dist-packages (from geopandas) (1.8.5.post1)\n",
            "Requirement already satisfied: click>=4.0 in /usr/local/lib/python3.7/dist-packages (from fiona>=1.8->geopandas) (7.1.2)\n",
            "Requirement already satisfied: attrs>=17 in /usr/local/lib/python3.7/dist-packages (from fiona>=1.8->geopandas) (22.1.0)\n",
            "Requirement already satisfied: setuptools in /usr/local/lib/python3.7/dist-packages (from fiona>=1.8->geopandas) (57.4.0)\n",
            "Collecting click-plugins>=1.0\n",
            "  Downloading click_plugins-1.1.1-py2.py3-none-any.whl (7.5 kB)\n",
            "Collecting munch\n",
            "  Downloading munch-2.5.0-py2.py3-none-any.whl (10 kB)\n",
            "Collecting cligj>=0.5\n",
            "  Downloading cligj-0.7.2-py3-none-any.whl (7.1 kB)\n",
            "Requirement already satisfied: six>=1.7 in /usr/local/lib/python3.7/dist-packages (from fiona>=1.8->geopandas) (1.15.0)\n",
            "Requirement already satisfied: certifi in /usr/local/lib/python3.7/dist-packages (from fiona>=1.8->geopandas) (2022.9.24)\n",
            "Requirement already satisfied: numpy>=1.17.3 in /usr/local/lib/python3.7/dist-packages (from pandas>=0.25.0->geopandas) (1.21.6)\n",
            "Requirement already satisfied: pytz>=2017.3 in /usr/local/lib/python3.7/dist-packages (from pandas>=0.25.0->geopandas) (2022.6)\n",
            "Requirement already satisfied: python-dateutil>=2.7.3 in /usr/local/lib/python3.7/dist-packages (from pandas>=0.25.0->geopandas) (2.8.2)\n",
            "Installing collected packages: munch, cligj, click-plugins, pyproj, fiona, geopandas\n",
            "Successfully installed click-plugins-1.1.1 cligj-0.7.2 fiona-1.8.22 geopandas-0.10.2 munch-2.5.0 pyproj-3.2.1\n",
            "Looking in indexes: https://pypi.org/simple, https://us-python.pkg.dev/colab-wheels/public/simple/\n",
            "Collecting haversine\n",
            "  Downloading haversine-2.7.0-py2.py3-none-any.whl (6.9 kB)\n",
            "Installing collected packages: haversine\n",
            "Successfully installed haversine-2.7.0\n",
            "Looking in indexes: https://pypi.org/simple, https://us-python.pkg.dev/colab-wheels/public/simple/\n",
            "Requirement already satisfied: folium in /usr/local/lib/python3.7/dist-packages (0.12.1.post1)\n",
            "Collecting folium\n",
            "  Downloading folium-0.13.0-py2.py3-none-any.whl (96 kB)\n",
            "\u001b[K     |████████████████████████████████| 96 kB 3.4 MB/s \n",
            "\u001b[?25hRequirement already satisfied: numpy in /usr/local/lib/python3.7/dist-packages (from folium) (1.21.6)\n",
            "Requirement already satisfied: requests in /usr/local/lib/python3.7/dist-packages (from folium) (2.23.0)\n",
            "Requirement already satisfied: branca>=0.3.0 in /usr/local/lib/python3.7/dist-packages (from folium) (0.6.0)\n",
            "Requirement already satisfied: jinja2>=2.9 in /usr/local/lib/python3.7/dist-packages (from folium) (2.11.3)\n",
            "Requirement already satisfied: MarkupSafe>=0.23 in /usr/local/lib/python3.7/dist-packages (from jinja2>=2.9->folium) (2.0.1)\n",
            "Requirement already satisfied: urllib3!=1.25.0,!=1.25.1,<1.26,>=1.21.1 in /usr/local/lib/python3.7/dist-packages (from requests->folium) (1.24.3)\n",
            "Requirement already satisfied: idna<3,>=2.5 in /usr/local/lib/python3.7/dist-packages (from requests->folium) (2.10)\n",
            "Requirement already satisfied: chardet<4,>=3.0.2 in /usr/local/lib/python3.7/dist-packages (from requests->folium) (3.0.4)\n",
            "Requirement already satisfied: certifi>=2017.4.17 in /usr/local/lib/python3.7/dist-packages (from requests->folium) (2022.9.24)\n",
            "Installing collected packages: folium\n",
            "  Attempting uninstall: folium\n",
            "    Found existing installation: folium 0.12.1.post1\n",
            "    Uninstalling folium-0.12.1.post1:\n",
            "      Successfully uninstalled folium-0.12.1.post1\n",
            "Successfully installed folium-0.13.0\n",
            "Looking in indexes: https://pypi.org/simple, https://us-python.pkg.dev/colab-wheels/public/simple/\n",
            "Requirement already satisfied: statsmodels in /usr/local/lib/python3.7/dist-packages (0.12.2)\n",
            "Collecting statsmodels\n",
            "  Downloading statsmodels-0.13.5-cp37-cp37m-manylinux_2_17_x86_64.manylinux2014_x86_64.whl (9.9 MB)\n",
            "\u001b[K     |████████████████████████████████| 9.9 MB 7.7 MB/s \n",
            "\u001b[?25hRequirement already satisfied: scipy<1.8,>=1.3 in /usr/local/lib/python3.7/dist-packages (from statsmodels) (1.7.3)\n",
            "Requirement already satisfied: numpy>=1.17 in /usr/local/lib/python3.7/dist-packages (from statsmodels) (1.21.6)\n",
            "Requirement already satisfied: packaging>=21.3 in /usr/local/lib/python3.7/dist-packages (from statsmodels) (21.3)\n",
            "Requirement already satisfied: pandas>=0.25 in /usr/local/lib/python3.7/dist-packages (from statsmodels) (1.3.5)\n",
            "Requirement already satisfied: patsy>=0.5.2 in /usr/local/lib/python3.7/dist-packages (from statsmodels) (0.5.3)\n",
            "Requirement already satisfied: pyparsing!=3.0.5,>=2.0.2 in /usr/local/lib/python3.7/dist-packages (from packaging>=21.3->statsmodels) (3.0.9)\n",
            "Requirement already satisfied: pytz>=2017.3 in /usr/local/lib/python3.7/dist-packages (from pandas>=0.25->statsmodels) (2022.6)\n",
            "Requirement already satisfied: python-dateutil>=2.7.3 in /usr/local/lib/python3.7/dist-packages (from pandas>=0.25->statsmodels) (2.8.2)\n",
            "Requirement already satisfied: six in /usr/local/lib/python3.7/dist-packages (from patsy>=0.5.2->statsmodels) (1.15.0)\n",
            "Installing collected packages: statsmodels\n",
            "  Attempting uninstall: statsmodels\n",
            "    Found existing installation: statsmodels 0.12.2\n",
            "    Uninstalling statsmodels-0.12.2:\n",
            "      Successfully uninstalled statsmodels-0.12.2\n",
            "Successfully installed statsmodels-0.13.5\n"
          ]
        }
      ]
    },
    {
      "cell_type": "code",
      "source": [
        "import numpy as np\n",
        "import pandas as pd\n",
        "import matplotlib.pyplot as plt\n",
        "\n",
        "import random\n",
        "import branca\n",
        "import folium\n",
        "import geopandas as gpd\n",
        "import seaborn as sns\n",
        "import cProfile\n",
        "import sys\n",
        "import pickle\n",
        "import arrow\n",
        "import datetime\n",
        "from argparse import ArgumentParser\n",
        "\n",
        "from shapely.geometry import Polygon, Point, MultiPoint, MultiPolygon\n",
        "from shapely.affinity import affine_transform\n",
        "from descartes.patch import PolygonPatch\n",
        "from shapely.ops import cascaded_union\n",
        "from matplotlib.path import Path\n",
        "\n",
        "from scipy.stats import multivariate_normal\n",
        "from scipy.spatial.distance import pdist, squareform\n",
        "from scipy.stats import gaussian_kde\n",
        "\n",
        "from sklearn import preprocessing\n",
        "from sklearn.cluster import KMeans\n",
        "\n",
        "import scipy.sparse as sp"
      ],
      "metadata": {
        "id": "BtpDyAuquJsp"
      },
      "execution_count": 4,
      "outputs": []
    },
    {
      "cell_type": "code",
      "source": [
        "import torch\n",
        "import torch.optim as optim\n",
        "import torch.nn.functional as F\n",
        "from torch.utils.data import TensorDataset, DataLoader\n",
        "from abc import ABC, abstractmethod\n",
        "import networkx as nx\n",
        "from community import community_louvain\n",
        "from haversine import haversine, haversine_vector"
      ],
      "metadata": {
        "id": "hTwC8YUVuK-f"
      },
      "execution_count": 5,
      "outputs": []
    },
    {
      "cell_type": "code",
      "source": [
        "%matplotlib inline\n",
        "\n",
        "import warnings\n",
        "warnings.filterwarnings(\"ignore\")\n",
        "import os\n",
        "import itertools"
      ],
      "metadata": {
        "id": "NMiTfYfyuNrJ"
      },
      "execution_count": 6,
      "outputs": []
    },
    {
      "cell_type": "markdown",
      "source": [
        "# Kernel"
      ],
      "metadata": {
        "id": "dnWCQeXvuiYf"
      }
    },
    {
      "cell_type": "code",
      "source": [
        "class Multivariate_Exponential_Kernel(torch.nn.Module):\n",
        "    \"\"\"\n",
        "    Exponential Decaying Kernel\n",
        "    \"\"\"\n",
        "    def __init__(self, alphas, beta, device):\n",
        "        \"\"\"\n",
        "        Arg:\n",
        "        - alphas: influence coefficient matrix, numpy array                     [ n_class, n_class ]\n",
        "        - beta: temporal decaying parameter for historical influence, numpy array        [ n_class ]\n",
        "        - device: cpu or cuda\n",
        "        \"\"\"\n",
        "        super(Multivariate_Exponential_Kernel, self).__init__()\n",
        "\n",
        "        # configuration\n",
        "        self._alphas     = torch.nn.Parameter(torch.tensor(alphas))\n",
        "        self._beta       = torch.nn.Parameter(torch.tensor(beta))\n",
        "        self.n_class     = alphas.shape[0]\n",
        "\n",
        "    def init_paras(self):\n",
        "        \"\"\"\n",
        "        initialize model parameters\n",
        "        \"\"\"\n",
        "\n",
        "        self._alphas.data = torch.empty(torch.empty(self.n_class, self.n_class).uniform_(0,to=self.init_std)).to(self._alphas.device)\n",
        "        self._beta.data = torch.empty(torch.empty(self.n_class).uniform_(0,to=self.init_std)).to(self._beta.device)\n",
        "    \n",
        "    def forward(self, x, y):\n",
        "        \"\"\"\n",
        "        customized forward function returning kernel evaluation at index x and y \n",
        "        - x: the current input (t, type) [ batch_size, data_dim = 2 ]\n",
        "        - y: the history input (t, type) [ batch_size, data_dim = 2 ]\n",
        "        \"\"\"\n",
        "\n",
        "        batch_size   = x.shape[0]\n",
        "        alphas_hist  = self._alphas[x[:, 1].long(), y[:, 1].long()]\n",
        "        beta_hist    = self._beta[y[:, 1].long()]\n",
        "\n",
        "        mask         = x[:, 0] > 0\n",
        "        tds          = (x[:, 0] - y[:, 0]) * mask\n",
        "\n",
        "        return alphas_hist * beta_hist * torch.exp(- beta_hist * tds) * mask    # [ batch_size ]"
      ],
      "metadata": {
        "id": "b0Af2HxLuT3Z"
      },
      "execution_count": 7,
      "outputs": []
    },
    {
      "cell_type": "code",
      "source": [],
      "metadata": {
        "id": "zla5IzsJzTAn"
      },
      "execution_count": 7,
      "outputs": []
    },
    {
      "cell_type": "markdown",
      "source": [
        "# PP"
      ],
      "metadata": {
        "id": "LTEcUKlNzT68"
      }
    },
    {
      "cell_type": "code",
      "source": [
        "class BasePointProcess(torch.nn.Module):\n",
        "    \"\"\"\n",
        "    PyTorch Module for Multivariate Point Process with diffusion kernel\n",
        "    \"\"\"\n",
        "\n",
        "    def __init__(self, T, mu, data_dim, device):\n",
        "        \"\"\"\n",
        "        data dim = 8\n",
        "\n",
        "        Args:\n",
        "        \"\"\"\n",
        "        super(BasePointProcess, self).__init__()\n",
        "        self.data_dim      = data_dim\n",
        "        self.T             = T # time horizon. e.g. (0, 1)\n",
        "        self.device        = device\n",
        "        self.n_class       = len(mu)\n",
        "        \n",
        "        # parameters\n",
        "        self._mu = torch.nn.Parameter(torch.tensor(mu), requires_grad=False)\n",
        "        # # pre-compute\n",
        "        # self.data_transformation()\n",
        "\n",
        "    def cond_lambda(self, xi, hti):\n",
        "        \"\"\"\n",
        "        return conditional intensity given x\n",
        "        Args:\n",
        "        - xi:   current i-th point       [ batch_size, data_dim ]\n",
        "        - hti:  history points before ti [ batch_size, seq_len, data_dim ]\n",
        "        Return:\n",
        "        - lami: i-th lambda              [ batch_size ]\n",
        "        \"\"\"\n",
        "        batch_size, seq_len, _ = hti.shape\n",
        "        mask_all = (hti[:, :, 0] > 0) * (xi[:, 0] > 0)[:, None]\n",
        "        # if length of the history is zero\n",
        "        if seq_len == 0:\n",
        "            return self._mu[xi[:, 1].long()]                                    # [ batch_size ]\n",
        "\n",
        "        xi2  = xi.unsqueeze(-2).repeat(1, seq_len, 1)                           # [ batch_size, seq_len, data_dim ]\n",
        "        K    = self.kernel(xi2.reshape(-1, self.data_dim),\n",
        "                           hti.reshape(-1, self.data_dim)).reshape(batch_size, seq_len)                                           \n",
        "                                                                                # [ batch_size, seq_len ]\n",
        "        lami = (K * mask_all).sum(-1) + self._mu[xi[:, 1].long()]                                 \n",
        "                                                                                # [ batch_size ]\n",
        "        return lami             # [ batch_size ]\n",
        "\n",
        "    def log_likelihood(self, X):\n",
        "        \"\"\"\n",
        "        return log-likelihood given sequence X\n",
        "        Args:\n",
        "        - X:      input points sequence [ batch_size, seq_len, data_dim ]\n",
        "        Return:\n",
        "        - lams:   sequence of lambda    [ batch_size, seq_len ]\n",
        "        - loglik: log-likelihood        scalar\n",
        "        \"\"\"\n",
        "        \n",
        "        raise NotImplementedError()\n",
        "\n",
        "    def forward(self, X):\n",
        "        \"\"\"\n",
        "        custom forward function returning conditional intensities and corresponding log-likelihood\n",
        "        \"\"\"\n",
        "        # return conditional intensities and corresponding log-likelihood\n",
        "        return self.log_likelihood(X)\n",
        "\n",
        "    # def mu(self):\n",
        "    #     \"\"\"\n",
        "    #     return base intensity\n",
        "    #     \"\"\"\n",
        "    #     raise NotImplementedError()\n",
        "\n",
        "\n",
        "\n",
        "class MultivariateExponentialHawkes(BasePointProcess):\n",
        "    \"\"\"\n",
        "    PyTorch Module for Multivariate Temporal Point Process\n",
        "    \"\"\"\n",
        "    def __init__(self, T, mu, alphas, beta, data_dim, device):\n",
        "        \"\"\"\n",
        "        data dim = 5(time, x, y, type)\n",
        "\n",
        "        Args:\n",
        "        \"\"\"\n",
        "        super(MultivariateExponentialHawkes, self).__init__(T, mu, data_dim, device)\n",
        "        \n",
        "        # kernel\n",
        "        self.kernel = Multivariate_Exponential_Kernel(alphas, beta, device)\n",
        "        # # pre-compute\n",
        "        # self.data_transformation()\n",
        "\n",
        "    def log_likelihood(self, X):\n",
        "        \"\"\"\n",
        "        return log-likelihood given sequence X\n",
        "        Args:\n",
        "        - X:      input points sequence [ batch_size, seq_len, data_dim ]\n",
        "        Return:\n",
        "        - lams:   sequence of lambda    [ batch_size, seq_len ]\n",
        "        - loglik: log-likelihood        scalar\n",
        "        \"\"\"\n",
        "\n",
        "        batch_size, seq_len, _ = X.shape\n",
        "        ts       = X[:, :, 0].clone()\n",
        "        ms       = X[:, :, 1].clone().long()\n",
        "        mask     = ts > 0\n",
        "\n",
        "        lams     = [\n",
        "            self.cond_lambda(X[:, i, :].clone(), X[:, :i, :].clone())\n",
        "            for i in range(seq_len) ]\n",
        "        lams     = torch.stack(lams, dim=0).T                                   # [ batch_size, seq_len ]\n",
        "        ## log-likelihood\n",
        "        mask     = ts > 0                                                       # [ batch_size, seq_len ]\n",
        "        sumlog   = (torch.log(lams + 1e-8) * mask).sum()                        # [ seq_len ]\n",
        "\n",
        "        baserate = torch.sum(self._mu * (self.T[1] - self.T[0]))\n",
        "\n",
        "        temp_int = 1 - torch.exp(-self.kernel._beta[ms] * (self.T[1] - ts))            # [ batch_size, seq_len ]\n",
        "        alpha_int = self.kernel._alphas[:, ms].sum(0)\n",
        "        integ = alpha_int * temp_int * mask\n",
        "        integ = integ.sum()\n",
        "\n",
        "        loglik = sumlog - baserate - integ\n",
        "        \n",
        "        return loglik"
      ],
      "metadata": {
        "id": "1tT8YBBSzUqE"
      },
      "execution_count": 34,
      "outputs": []
    },
    {
      "cell_type": "markdown",
      "source": [
        "# Training Function"
      ],
      "metadata": {
        "id": "xRLGu2Vy7r-3"
      }
    },
    {
      "cell_type": "code",
      "source": [
        "def train(model,\n",
        "          train_data,\n",
        "          device,\n",
        "          modelname,\n",
        "          rootpath,\n",
        "          num_epochs=20, \n",
        "          lr=1e-4,\n",
        "          batch_size=5,\n",
        "          print_iter=2,\n",
        "          tol=1e-2,\n",
        "          testing=False,\n",
        "          test_data=None,\n",
        "          save_model=False):\n",
        "    \"\"\"training procedure for one epoch\"\"\"\n",
        "\n",
        "    clipper1  = NonNegativeClipper()\n",
        "    ##clipper2  = ProximityClipper(coords, k=k)\n",
        "    # NOTE: gradient for loss is expected to be None, \n",
        "    #       since it is not leaf node. (it's root node)\n",
        "\n",
        "    path = rootpath + \"/Results/saved_models/%s\" % modelname\n",
        "    \n",
        "    if save_model:\n",
        "        if os.path.exists(path): \n",
        "            print(\"Duplicated folder!\")\n",
        "            return None\n",
        "        else:\n",
        "            os.makedirs(path)\n",
        "\n",
        "    model.to(device)\n",
        "    optimizer = optim.Adadelta(model.parameters(), lr=lr)\n",
        "\n",
        "    best_lglk = -np.inf\n",
        "    prev_lglk = -np.inf\n",
        "    no_incre = 0\n",
        "    converge = 0\n",
        "    _lr = lr\n",
        "    n_batches = int(train_data.shape[0] / batch_size) # number of batches\n",
        "\n",
        "    train_llk = []\n",
        "    test_llk = []\n",
        "\n",
        "    for i in range(num_epochs):\n",
        "        try:\n",
        "            epoch_llk_loss = 0\n",
        "            epoch_l1_loss  = 0\n",
        "            optimizer.zero_grad()\n",
        "\n",
        "            for b in range(n_batches):\n",
        "                idx  = np.arange(batch_size * b, batch_size * (b + 1))\n",
        "                data = train_data[idx]\n",
        "                loglik = model(data.to(device))\n",
        "                loss      = - loglik\n",
        "\n",
        "                loss.backward()\n",
        "                optimizer.step()\n",
        "                model.apply(clipper1)\n",
        "            \n",
        "                epoch_llk_loss += loglik.item()\n",
        "            \n",
        "            event_num = (train_data[..., 0] > 0).sum()\n",
        "            event_llk = epoch_llk_loss / event_num\n",
        "\n",
        "            if (i+1) % print_iter == 0:\n",
        "\n",
        "                train_llk.append(event_llk)\n",
        "                print(\"[%s] Epoch: %d\\tTrain Loglik: %.3e\\t stag: %d converge: %d\" % (arrow.now(), \n",
        "                    i, \n",
        "                    event_llk,\n",
        "                    no_incre,\n",
        "                    converge))\n",
        "                \n",
        "                if testing:\n",
        "                    with torch.no_grad():\n",
        "                        test_loglik = model(test_data.to(device))\n",
        "                        test_event_num = (test_data[..., 0] > 0).sum()\n",
        "                        test_event_llk = test_loglik / test_event_num\n",
        "\n",
        "                        test_llk.append(test_event_llk)\n",
        "                \n",
        "                        print(\"[%s] Epoch: %d\\tTest Loglik: %.3e\" % (arrow.now(), \n",
        "                            i, \n",
        "                            test_event_llk))\n",
        "                \n",
        "            if event_llk > best_lglk:\n",
        "                best_lglk = event_llk\n",
        "                no_incre = 0\n",
        "            else:\n",
        "                no_incre += 1\n",
        "            if no_incre == 10:\n",
        "                print(\"Learning rate decrease!\")\n",
        "                _lr = _lr / 10\n",
        "                optimizer = optim.Adadelta(model.parameters(), lr=_lr)\n",
        "                no_incre = 0\n",
        "                # best_lglk = -np.inf\n",
        "            if np.abs(event_llk - prev_lglk) > tol:\n",
        "                converge = 0\n",
        "            else:\n",
        "                converge += 1\n",
        "\n",
        "            prev_lglk = event_llk\n",
        "            \n",
        "            if converge == 50:\n",
        "                return train_llk, test_llk\n",
        "\n",
        "            if save_model:\n",
        "                model.cpu()\n",
        "                torch.save(model.state_dict(), \"%s/%s-%d.pth\" % (path, modelname, i))\n",
        "                model.to(device)\n",
        "\n",
        "        except KeyboardInterrupt:\n",
        "            break\n",
        "    \n",
        "    return train_llk, test_llk\n",
        "\n",
        "\n",
        "class NonNegativeClipper(object):\n",
        "    \"\"\"\n",
        "    References:\n",
        "    https://discuss.pytorch.org/t/restrict-range-of-variable-during-gradient-descent/1933\n",
        "    https://discuss.pytorch.org/t/set-constraints-on-parameters-or-layers/23620/3\n",
        "    \"\"\"\n",
        "\n",
        "    def __init__(self):\n",
        "        pass\n",
        "\n",
        "    def __call__(self, module):\n",
        "        \"\"\"enforce non-negative constraints\"\"\"\n",
        "        if hasattr(module, '_mu'):\n",
        "            _mu = module._mu.data\n",
        "            module._mu.data = torch.clamp(_mu, min=0.)\n",
        "        # Multivariate Hawkes\n",
        "        if hasattr(module, '_alphas'):\n",
        "            _alphas = module._alphas.data\n",
        "            module._alphas.data = torch.clamp(_alphas, min=1e-5)\n",
        "        if hasattr(module, '_beta'):\n",
        "            _beta  = module._beta.data\n",
        "            module._beta.data  = torch.clamp(_beta, min=1e-5)"
      ],
      "metadata": {
        "id": "atDQ4YEz6yt_"
      },
      "execution_count": 24,
      "outputs": []
    },
    {
      "cell_type": "code",
      "source": [],
      "metadata": {
        "id": "C4Qh4G_eIY-c"
      },
      "execution_count": 24,
      "outputs": []
    },
    {
      "cell_type": "markdown",
      "source": [
        "# Data Loading"
      ],
      "metadata": {
        "id": "So5GQPfxLFdA"
      }
    },
    {
      "cell_type": "code",
      "source": [
        "rootpath = \"/content/drive/MyDrive/CSE8803_DSE\"\n",
        "device = torch.device(\"cuda:0\" if torch.cuda.is_available() else \"cpu\")"
      ],
      "metadata": {
        "id": "2RN1CBuALGrL"
      },
      "execution_count": 25,
      "outputs": []
    },
    {
      "cell_type": "code",
      "source": [
        "train_raw_data = np.load(rootpath + \"/data/train.npy\", allow_pickle=True)\n",
        "test_raw_data = np.load(rootpath + \"/data/test.npy\", allow_pickle=True)"
      ],
      "metadata": {
        "id": "G0vgKrJ9LPi0"
      },
      "execution_count": 26,
      "outputs": []
    },
    {
      "cell_type": "code",
      "source": [
        "lens_test = [test_raw_data[i][0].shape[0] for i in range(test_raw_data.shape[0])]\n",
        "max_len_test = max(lens_test)\n",
        "\n",
        "test_data = np.zeros((test_raw_data.shape[0], max_len_test, 2))\n",
        "for i in range(test_raw_data.shape[0]):\n",
        "    data = test_raw_data[i][0]\n",
        "    data[:, 0] = data[:, 0] - 200\n",
        "    test_data[i, :lens_test[i], :] = data"
      ],
      "metadata": {
        "id": "wAgy9zWeO0VQ"
      },
      "execution_count": 27,
      "outputs": []
    },
    {
      "cell_type": "code",
      "source": [
        "train_data_all = []\n",
        "\n",
        "for i in range(train_raw_data.shape[0]):\n",
        "\n",
        "    train_data_list = []\n",
        "    for k in range(4):\n",
        "        dat = train_raw_data[i][k]\n",
        "        mask = dat[:, 0] > 0\n",
        "        dat[:, 0] = (dat[:, 0] - k * 50) * mask\n",
        "        train_data_list.append(dat)\n",
        "    train_data_list = np.stack(train_data_list, axis=0)\n",
        "\n",
        "    train_data_all.append(train_data_list)\n",
        "\n",
        "lens_train = [data.shape[1] for data in train_data_all]\n",
        "max_len_train = max(lens_train)\n",
        "\n",
        "train_data = np.zeros((train_raw_data.shape[0], train_raw_data.shape[1], max_len_train, 2))\n",
        "for i in range(train_raw_data.shape[0]):\n",
        "    train_data[i, :, :lens_train[i], :] = train_data_all[i]"
      ],
      "metadata": {
        "id": "5TOuAPWwuh0z"
      },
      "execution_count": 28,
      "outputs": []
    },
    {
      "cell_type": "markdown",
      "source": [
        "# Model Training"
      ],
      "metadata": {
        "id": "kVALX7t0O9K9"
      }
    },
    {
      "cell_type": "code",
      "source": [
        "############### Training without regularization ################\n",
        "\n",
        "seed = 500\n",
        "torch.random.manual_seed(seed)\n",
        "np.random.seed(seed)\n",
        "random.seed(seed)\n",
        "\n",
        "# training configurations\n",
        "batch_size = 4\n",
        "num_epochs = 1000\n",
        "lr         = 1e0\n",
        "\n",
        "# model configurations\n",
        "T          = np.array([0., 50.])\n",
        "data_dim   = 2\n",
        "device     = torch.device(\"cuda:0\" if torch.cuda.is_available() else \"cpu\")\n",
        "# device     = \"cpu\"\n",
        "n_class    = 11\n",
        "n_state    = train_raw_data.shape[0]\n",
        "\n",
        "# mask = train_data[:, :, 0] > 0\n",
        "# v, c = np.unique(train_data[mask][:, 0], return_counts=True)\n",
        "# mu = c / train_data.shape[0] / 50 / 10\n",
        "# print(mu)\n",
        "# mu = np.zeros(n_class) * 1e-3\n",
        "\n",
        "test_event_num = (test_data[:, :, 0] > 0).sum(1)\n",
        "wo_fed_test_llk = np.zeros((n_state, n_state))\n",
        "\n",
        "dir_path = rootpath + \"/Results/saved_models\"\n",
        "if os.path.exists(dir_path): \n",
        "    print(\"Duplicated folder!\")\n",
        "else:\n",
        "    os.makedirs(dir_path)\n",
        "\n",
        "for i in range(n_state):\n",
        "\n",
        "    alphas = np.random.uniform(low=0.0, high=1.0, size=(n_class, n_class))\n",
        "    beta   = np.random.uniform(low=0.0, high=1.0, size=(n_class))\n",
        "\n",
        "    train_set  = torch.FloatTensor(train_data[i])\n",
        "\n",
        "    # mask = train_set[..., 0] > 0\n",
        "    # v, c = np.unique(train_set[mask][:, 0], return_counts=True)\n",
        "    # mu = c / train_set.shape[0] / 50 \n",
        "    # print(mu)\n",
        "    mu = np.ones(n_class) * 1e-2\n",
        "\n",
        "    init_model = MultivariateExponentialHawkes(T=T, mu=mu, alphas=alphas, beta=beta,\n",
        "                                            data_dim=data_dim, device=device)\n",
        "    # init_model.load_state_dict(torch.load(\"/content/drive/MyDrive/Neural_Kernel/Deep_Fourier_Kernel/Results/saved_models/%s_stone12/%s-99.pth\" % (modelname, modelname)))\n",
        "    # # # define point process generator and generator synthetic data\n",
        "    # # generator  = TemporalPointProcessGenerator(trg_model, upper_bound=1e+2)\n",
        "    # # data, size = generator.generate(T=T, batch_size=2000, min_n_points=5, verbose=False)\n",
        "    # # np.save(\"%s/data-1d-n2000_exponential_targetmodel-%d.npy\" % (rootpath, seed), data)\n",
        "    # # print(data.shape)\n",
        "\n",
        "    # training data preparation\n",
        "    # train_dataset = TensorDataset(train_data)\n",
        "    # train_loader  = DataLoader(train_dataset, batch_size=batch_size, shuffle=True)\n",
        "\n",
        "    # training\n",
        "    modelname  = \"No_Fed-constant-mu%.3f-%d_train-state-%d\" % (0.01, seed, i)\n",
        "    train_llk, test_llk = train(init_model, train_set, device=device,\n",
        "                modelname=modelname, rootpath=rootpath,\n",
        "                num_epochs=num_epochs, lr=lr, batch_size=batch_size,\n",
        "                print_iter=50, tol=1e-3, testing=False, test_data=None, save_model=False)\n",
        "    \n",
        "    modelpath = dir_path + \"/%s.pth\" % modelname\n",
        "    init_model.cpu()\n",
        "    torch.save(init_model.state_dict(), \"%s\" % modelpath)\n",
        "    \n",
        "    # with torch.no_grad():\n",
        "    #     for j in range(n_state):\n",
        "    #         test_set   = torch.FloatTensor(test_data[[j]])\n",
        "    #         test_loglik = init_model(test_set.to(device))\n",
        "    #         test_event_llk = test_loglik / test_event_num[j]\n",
        "    #         print(\"Train/Test State (%d, %d),  testing llk: %.5f\" % (i, j, test_event_llk))\n",
        "    #         wo_fed_test_llk[i, j] = test_event_llk"
      ],
      "metadata": {
        "colab": {
          "base_uri": "https://localhost:8080/"
        },
        "id": "btTPjjHOO-fM",
        "outputId": "a821ef0d-ee69-4142-8c94-8c48cace1912"
      },
      "execution_count": 59,
      "outputs": [
        {
          "output_type": "stream",
          "name": "stdout",
          "text": [
            "Duplicated folder!\n",
            "[2022-11-30T03:38:41.329257+00:00] Epoch: 49\tTrain Loglik: -2.916e+00\t stag: 0 converge: 0\n",
            "[2022-11-30T03:38:46.230578+00:00] Epoch: 99\tTrain Loglik: -2.245e+00\t stag: 0 converge: 0\n",
            "[2022-11-30T03:38:51.141478+00:00] Epoch: 149\tTrain Loglik: -1.909e+00\t stag: 6 converge: 0\n",
            "[2022-11-30T03:38:55.982478+00:00] Epoch: 199\tTrain Loglik: -1.810e+00\t stag: 0 converge: 0\n",
            "[2022-11-30T03:39:01.315187+00:00] Epoch: 249\tTrain Loglik: -1.754e+00\t stag: 1 converge: 0\n",
            "[2022-11-30T03:39:06.815107+00:00] Epoch: 299\tTrain Loglik: -1.708e+00\t stag: 1 converge: 0\n",
            "[2022-11-30T03:39:11.658015+00:00] Epoch: 349\tTrain Loglik: -1.666e+00\t stag: 0 converge: 9\n",
            "[2022-11-30T03:39:16.515635+00:00] Epoch: 399\tTrain Loglik: -1.624e+00\t stag: 0 converge: 0\n",
            "[2022-11-30T03:39:23.087899+00:00] Epoch: 449\tTrain Loglik: -1.584e+00\t stag: 0 converge: 0\n",
            "[2022-11-30T03:39:28.032346+00:00] Epoch: 499\tTrain Loglik: -1.537e+00\t stag: 0 converge: 24\n",
            "[2022-11-30T03:39:35.253912+00:00] Epoch: 49\tTrain Loglik: -2.400e+00\t stag: 0 converge: 0\n",
            "Learning rate decrease!\n",
            "[2022-11-30T03:39:40.260033+00:00] Epoch: 99\tTrain Loglik: -2.184e+00\t stag: 0 converge: 34\n",
            "[2022-11-30T03:39:46.531541+00:00] Epoch: 49\tTrain Loglik: -2.498e+00\t stag: 0 converge: 0\n",
            "Learning rate decrease!\n",
            "[2022-11-30T03:39:51.540083+00:00] Epoch: 99\tTrain Loglik: -1.962e+00\t stag: 4 converge: 0\n",
            "[2022-11-30T03:39:56.478206+00:00] Epoch: 149\tTrain Loglik: -1.902e+00\t stag: 0 converge: 7\n",
            "[2022-11-30T03:40:05.485242+00:00] Epoch: 49\tTrain Loglik: -2.356e+00\t stag: 1 converge: 0\n",
            "[2022-11-30T03:40:10.385953+00:00] Epoch: 99\tTrain Loglik: -2.175e+00\t stag: 0 converge: 0\n",
            "Learning rate decrease!\n",
            "Learning rate decrease!\n",
            "[2022-11-30T03:40:15.301858+00:00] Epoch: 149\tTrain Loglik: -2.104e+00\t stag: 0 converge: 19\n",
            "[2022-11-30T03:40:23.319541+00:00] Epoch: 49\tTrain Loglik: -2.975e+00\t stag: 0 converge: 0\n",
            "[2022-11-30T03:40:28.413094+00:00] Epoch: 99\tTrain Loglik: -2.144e+00\t stag: 1 converge: 0\n",
            "Learning rate decrease!\n",
            "[2022-11-30T03:40:33.358639+00:00] Epoch: 149\tTrain Loglik: -2.052e+00\t stag: 0 converge: 24\n",
            "[2022-11-30T03:40:40.844543+00:00] Epoch: 49\tTrain Loglik: -2.637e+00\t stag: 0 converge: 0\n",
            "Learning rate decrease!\n",
            "[2022-11-30T03:40:45.783783+00:00] Epoch: 99\tTrain Loglik: -2.217e+00\t stag: 0 converge: 18\n",
            "[2022-11-30T03:40:53.878038+00:00] Epoch: 49\tTrain Loglik: -2.394e+00\t stag: 0 converge: 0\n",
            "[2022-11-30T03:40:58.710206+00:00] Epoch: 99\tTrain Loglik: -2.224e+00\t stag: 0 converge: 0\n",
            "Learning rate decrease!\n",
            "Learning rate decrease!\n",
            "[2022-11-30T03:41:03.656457+00:00] Epoch: 149\tTrain Loglik: -2.269e+00\t stag: 8 converge: 7\n",
            "Learning rate decrease!\n",
            "Learning rate decrease!\n",
            "Learning rate decrease!\n",
            "Learning rate decrease!\n",
            "Learning rate decrease!\n",
            "[2022-11-30T03:41:12.666022+00:00] Epoch: 49\tTrain Loglik: -2.136e+00\t stag: 0 converge: 0\n",
            "Learning rate decrease!\n",
            "Learning rate decrease!\n",
            "[2022-11-30T03:41:17.537754+00:00] Epoch: 99\tTrain Loglik: -2.058e+00\t stag: 7 converge: 12\n",
            "Learning rate decrease!\n",
            "Learning rate decrease!\n",
            "Learning rate decrease!\n",
            "Learning rate decrease!\n",
            "[2022-11-30T03:41:26.505160+00:00] Epoch: 49\tTrain Loglik: -2.394e+00\t stag: 0 converge: 0\n",
            "[2022-11-30T03:41:32.643673+00:00] Epoch: 99\tTrain Loglik: -2.145e+00\t stag: 0 converge: 0\n",
            "[2022-11-30T03:41:37.483821+00:00] Epoch: 149\tTrain Loglik: -1.978e+00\t stag: 3 converge: 0\n",
            "[2022-11-30T03:41:42.484667+00:00] Epoch: 199\tTrain Loglik: -1.914e+00\t stag: 1 converge: 0\n",
            "[2022-11-30T03:41:47.296336+00:00] Epoch: 249\tTrain Loglik: -1.854e+00\t stag: 1 converge: 0\n",
            "[2022-11-30T03:41:52.268782+00:00] Epoch: 299\tTrain Loglik: -1.800e+00\t stag: 0 converge: 18\n",
            "[2022-11-30T03:41:57.057589+00:00] Epoch: 349\tTrain Loglik: -1.752e+00\t stag: 1 converge: 0\n",
            "[2022-11-30T03:42:01.992105+00:00] Epoch: 399\tTrain Loglik: -1.702e+00\t stag: 0 converge: 7\n",
            "[2022-11-30T03:42:11.042327+00:00] Epoch: 49\tTrain Loglik: -2.397e+00\t stag: 0 converge: 0\n",
            "[2022-11-30T03:42:15.898950+00:00] Epoch: 99\tTrain Loglik: -2.501e+00\t stag: 2 converge: 0\n",
            "Learning rate decrease!\n",
            "Learning rate decrease!\n",
            "Learning rate decrease!\n",
            "Learning rate decrease!\n",
            "[2022-11-30T03:42:20.815631+00:00] Epoch: 149\tTrain Loglik: -2.115e+00\t stag: 3 converge: 32\n",
            "Learning rate decrease!\n",
            "Learning rate decrease!\n",
            "[2022-11-30T03:42:27.347781+00:00] Epoch: 49\tTrain Loglik: -2.526e+00\t stag: 0 converge: 0\n",
            "[2022-11-30T03:42:32.257659+00:00] Epoch: 99\tTrain Loglik: -2.206e+00\t stag: 4 converge: 0\n",
            "[2022-11-30T03:42:37.146818+00:00] Epoch: 149\tTrain Loglik: -2.139e+00\t stag: 3 converge: 0\n",
            "[2022-11-30T03:42:43.730768+00:00] Epoch: 199\tTrain Loglik: -2.024e+00\t stag: 0 converge: 0\n",
            "[2022-11-30T03:42:48.546655+00:00] Epoch: 249\tTrain Loglik: -1.964e+00\t stag: 0 converge: 0\n",
            "[2022-11-30T03:42:53.419832+00:00] Epoch: 299\tTrain Loglik: -1.918e+00\t stag: 0 converge: 18\n",
            "[2022-11-30T03:43:01.249244+00:00] Epoch: 49\tTrain Loglik: -2.621e+00\t stag: 0 converge: 0\n",
            "[2022-11-30T03:43:06.124112+00:00] Epoch: 99\tTrain Loglik: -2.099e+00\t stag: 0 converge: 0\n",
            "Learning rate decrease!\n",
            "[2022-11-30T03:43:11.145195+00:00] Epoch: 149\tTrain Loglik: -2.064e+00\t stag: 6 converge: 0\n",
            "Learning rate decrease!\n",
            "Learning rate decrease!\n",
            "Learning rate decrease!\n",
            "Learning rate decrease!\n",
            "Learning rate decrease!\n",
            "[2022-11-30T03:43:16.102012+00:00] Epoch: 199\tTrain Loglik: -2.053e+00\t stag: 6 converge: 45\n",
            "Learning rate decrease!\n",
            "[2022-11-30T03:43:21.354180+00:00] Epoch: 49\tTrain Loglik: -2.658e+00\t stag: 0 converge: 0\n",
            "Learning rate decrease!\n",
            "[2022-11-30T03:43:26.331188+00:00] Epoch: 99\tTrain Loglik: -2.147e+00\t stag: 7 converge: 0\n",
            "Learning rate decrease!\n",
            "Learning rate decrease!\n",
            "Learning rate decrease!\n",
            "Learning rate decrease!\n",
            "Learning rate decrease!\n",
            "[2022-11-30T03:43:31.353222+00:00] Epoch: 149\tTrain Loglik: -2.138e+00\t stag: 7 converge: 46\n",
            "Learning rate decrease!\n",
            "[2022-11-30T03:43:36.466892+00:00] Epoch: 49\tTrain Loglik: -2.145e+00\t stag: 1 converge: 0\n",
            "[2022-11-30T03:43:41.365957+00:00] Epoch: 99\tTrain Loglik: -2.087e+00\t stag: 2 converge: 0\n",
            "Learning rate decrease!\n",
            "[2022-11-30T03:43:46.268517+00:00] Epoch: 149\tTrain Loglik: -2.147e+00\t stag: 1 converge: 0\n",
            "Learning rate decrease!\n",
            "Learning rate decrease!\n",
            "Learning rate decrease!\n",
            "Learning rate decrease!\n",
            "Learning rate decrease!\n",
            "[2022-11-30T03:43:51.246235+00:00] Epoch: 199\tTrain Loglik: -2.091e+00\t stag: 1 converge: 40\n",
            "Learning rate decrease!\n",
            "[2022-11-30T03:43:57.122041+00:00] Epoch: 49\tTrain Loglik: -2.675e+00\t stag: 0 converge: 0\n",
            "[2022-11-30T03:44:01.978235+00:00] Epoch: 99\tTrain Loglik: -2.025e+00\t stag: 0 converge: 0\n",
            "[2022-11-30T03:44:06.784627+00:00] Epoch: 149\tTrain Loglik: -1.808e+00\t stag: 0 converge: 0\n",
            "[2022-11-30T03:44:11.648145+00:00] Epoch: 199\tTrain Loglik: -1.701e+00\t stag: 1 converge: 0\n",
            "[2022-11-30T03:44:16.464537+00:00] Epoch: 249\tTrain Loglik: -1.643e+00\t stag: 1 converge: 0\n",
            "[2022-11-30T03:44:21.283594+00:00] Epoch: 299\tTrain Loglik: -1.598e+00\t stag: 1 converge: 0\n",
            "[2022-11-30T03:44:26.256577+00:00] Epoch: 349\tTrain Loglik: -1.561e+00\t stag: 1 converge: 1\n",
            "[2022-11-30T03:44:31.253089+00:00] Epoch: 399\tTrain Loglik: -1.526e+00\t stag: 0 converge: 1\n",
            "[2022-11-30T03:44:36.191712+00:00] Epoch: 449\tTrain Loglik: -1.491e+00\t stag: 0 converge: 1\n",
            "[2022-11-30T03:44:41.290424+00:00] Epoch: 499\tTrain Loglik: -1.453e+00\t stag: 0 converge: 9\n",
            "[2022-11-30T03:44:47.014629+00:00] Epoch: 549\tTrain Loglik: -1.421e+00\t stag: 0 converge: 5\n",
            "[2022-11-30T03:44:57.493851+00:00] Epoch: 49\tTrain Loglik: -2.507e+00\t stag: 0 converge: 0\n",
            "[2022-11-30T03:45:02.389864+00:00] Epoch: 99\tTrain Loglik: -2.105e+00\t stag: 0 converge: 0\n",
            "[2022-11-30T03:45:07.272050+00:00] Epoch: 149\tTrain Loglik: -2.010e+00\t stag: 0 converge: 0\n",
            "[2022-11-30T03:45:12.198697+00:00] Epoch: 199\tTrain Loglik: -1.925e+00\t stag: 0 converge: 0\n",
            "[2022-11-30T03:45:17.028016+00:00] Epoch: 249\tTrain Loglik: -1.840e+00\t stag: 0 converge: 0\n",
            "[2022-11-30T03:45:21.865940+00:00] Epoch: 299\tTrain Loglik: -1.788e+00\t stag: 1 converge: 0\n",
            "[2022-11-30T03:45:26.824255+00:00] Epoch: 349\tTrain Loglik: -1.747e+00\t stag: 1 converge: 0\n",
            "[2022-11-30T03:45:31.648892+00:00] Epoch: 399\tTrain Loglik: -1.714e+00\t stag: 1 converge: 0\n",
            "[2022-11-30T03:45:36.569814+00:00] Epoch: 449\tTrain Loglik: -1.684e+00\t stag: 1 converge: 0\n",
            "[2022-11-30T03:45:41.510411+00:00] Epoch: 499\tTrain Loglik: -1.654e+00\t stag: 1 converge: 1\n",
            "[2022-11-30T03:45:46.555773+00:00] Epoch: 549\tTrain Loglik: -1.620e+00\t stag: 0 converge: 1\n",
            "[2022-11-30T03:45:51.397662+00:00] Epoch: 599\tTrain Loglik: -1.582e+00\t stag: 0 converge: 3\n",
            "[2022-11-30T03:45:56.344344+00:00] Epoch: 649\tTrain Loglik: -1.538e+00\t stag: 0 converge: 1\n",
            "[2022-11-30T03:46:02.959549+00:00] Epoch: 699\tTrain Loglik: -1.489e+00\t stag: 0 converge: 1\n",
            "[2022-11-30T03:46:07.815523+00:00] Epoch: 749\tTrain Loglik: -1.445e+00\t stag: 0 converge: 1\n",
            "[2022-11-30T03:46:12.594665+00:00] Epoch: 799\tTrain Loglik: -1.409e+00\t stag: 1 converge: 0\n",
            "[2022-11-30T03:46:17.391978+00:00] Epoch: 849\tTrain Loglik: -1.372e+00\t stag: 1 converge: 0\n",
            "[2022-11-30T03:46:22.184921+00:00] Epoch: 899\tTrain Loglik: -1.341e+00\t stag: 1 converge: 0\n",
            "[2022-11-30T03:46:26.983708+00:00] Epoch: 949\tTrain Loglik: -1.310e+00\t stag: 1 converge: 0\n",
            "[2022-11-30T03:46:31.880942+00:00] Epoch: 999\tTrain Loglik: -1.279e+00\t stag: 1 converge: 0\n",
            "[2022-11-30T03:46:36.649876+00:00] Epoch: 49\tTrain Loglik: -2.275e+00\t stag: 1 converge: 0\n",
            "[2022-11-30T03:46:41.448168+00:00] Epoch: 99\tTrain Loglik: -1.983e+00\t stag: 0 converge: 0\n",
            "Learning rate decrease!\n",
            "[2022-11-30T03:46:46.430527+00:00] Epoch: 149\tTrain Loglik: -1.902e+00\t stag: 0 converge: 8\n",
            "[2022-11-30T03:46:55.243125+00:00] Epoch: 49\tTrain Loglik: -2.479e+00\t stag: 0 converge: 0\n",
            "[2022-11-30T03:47:00.103853+00:00] Epoch: 99\tTrain Loglik: -2.085e+00\t stag: 3 converge: 0\n",
            "[2022-11-30T03:47:04.878418+00:00] Epoch: 149\tTrain Loglik: -1.945e+00\t stag: 1 converge: 0\n",
            "[2022-11-30T03:47:09.819890+00:00] Epoch: 199\tTrain Loglik: -1.881e+00\t stag: 0 converge: 0\n",
            "[2022-11-30T03:47:14.729486+00:00] Epoch: 249\tTrain Loglik: -1.775e+00\t stag: 0 converge: 0\n",
            "[2022-11-30T03:47:19.505296+00:00] Epoch: 299\tTrain Loglik: -1.725e+00\t stag: 0 converge: 2\n",
            "[2022-11-30T03:47:24.333690+00:00] Epoch: 349\tTrain Loglik: -1.693e+00\t stag: 0 converge: 0\n",
            "[2022-11-30T03:47:29.347540+00:00] Epoch: 399\tTrain Loglik: -1.655e+00\t stag: 0 converge: 34\n",
            "[2022-11-30T03:47:35.765940+00:00] Epoch: 49\tTrain Loglik: -2.968e+00\t stag: 0 converge: 0\n",
            "[2022-11-30T03:47:40.680904+00:00] Epoch: 99\tTrain Loglik: -2.052e+00\t stag: 0 converge: 0\n",
            "[2022-11-30T03:47:45.633667+00:00] Epoch: 149\tTrain Loglik: -1.840e+00\t stag: 0 converge: 0\n",
            "[2022-11-30T03:47:50.499659+00:00] Epoch: 199\tTrain Loglik: -1.657e+00\t stag: 1 converge: 0\n",
            "[2022-11-30T03:47:55.455502+00:00] Epoch: 249\tTrain Loglik: -1.561e+00\t stag: 1 converge: 0\n",
            "[2022-11-30T03:48:00.301724+00:00] Epoch: 299\tTrain Loglik: -1.490e+00\t stag: 1 converge: 0\n",
            "[2022-11-30T03:48:05.702485+00:00] Epoch: 349\tTrain Loglik: -1.435e+00\t stag: 1 converge: 0\n",
            "[2022-11-30T03:48:13.447625+00:00] Epoch: 399\tTrain Loglik: -1.389e+00\t stag: 1 converge: 1\n",
            "[2022-11-30T03:48:19.328182+00:00] Epoch: 449\tTrain Loglik: -1.347e+00\t stag: 0 converge: 1\n",
            "[2022-11-30T03:48:24.152095+00:00] Epoch: 499\tTrain Loglik: -1.308e+00\t stag: 0 converge: 1\n",
            "[2022-11-30T03:48:29.061273+00:00] Epoch: 549\tTrain Loglik: -1.262e+00\t stag: 0 converge: 1\n",
            "[2022-11-30T03:48:34.181052+00:00] Epoch: 599\tTrain Loglik: -1.229e+00\t stag: 0 converge: 45\n",
            "[2022-11-30T03:48:39.517507+00:00] Epoch: 49\tTrain Loglik: -2.627e+00\t stag: 0 converge: 0\n",
            "[2022-11-30T03:48:44.449794+00:00] Epoch: 99\tTrain Loglik: -2.312e+00\t stag: 0 converge: 0\n",
            "[2022-11-30T03:48:49.499199+00:00] Epoch: 149\tTrain Loglik: -2.122e+00\t stag: 0 converge: 0\n",
            "[2022-11-30T03:48:54.504602+00:00] Epoch: 199\tTrain Loglik: -2.062e+00\t stag: 0 converge: 0\n",
            "[2022-11-30T03:48:59.481735+00:00] Epoch: 249\tTrain Loglik: -1.960e+00\t stag: 0 converge: 0\n",
            "[2022-11-30T03:49:04.386025+00:00] Epoch: 299\tTrain Loglik: -1.899e+00\t stag: 0 converge: 0\n",
            "[2022-11-30T03:49:09.298750+00:00] Epoch: 349\tTrain Loglik: -1.832e+00\t stag: 0 converge: 0\n",
            "[2022-11-30T03:49:14.204862+00:00] Epoch: 399\tTrain Loglik: -1.780e+00\t stag: 0 converge: 0\n",
            "[2022-11-30T03:49:20.630260+00:00] Epoch: 449\tTrain Loglik: -1.735e+00\t stag: 0 converge: 0\n",
            "[2022-11-30T03:49:25.808749+00:00] Epoch: 499\tTrain Loglik: -1.694e+00\t stag: 0 converge: 0\n",
            "[2022-11-30T03:49:30.632963+00:00] Epoch: 549\tTrain Loglik: -1.659e+00\t stag: 0 converge: 12\n",
            "[2022-11-30T03:49:39.149676+00:00] Epoch: 49\tTrain Loglik: -2.407e+00\t stag: 0 converge: 0\n",
            "[2022-11-30T03:49:44.049041+00:00] Epoch: 99\tTrain Loglik: -2.200e+00\t stag: 0 converge: 0\n",
            "[2022-11-30T03:49:48.972771+00:00] Epoch: 149\tTrain Loglik: -2.157e+00\t stag: 0 converge: 0\n",
            "[2022-11-30T03:49:53.968256+00:00] Epoch: 199\tTrain Loglik: -2.089e+00\t stag: 0 converge: 0\n",
            "[2022-11-30T03:49:58.929354+00:00] Epoch: 249\tTrain Loglik: -2.018e+00\t stag: 0 converge: 0\n",
            "[2022-11-30T03:50:03.999766+00:00] Epoch: 299\tTrain Loglik: -1.979e+00\t stag: 0 converge: 0\n",
            "[2022-11-30T03:50:08.847767+00:00] Epoch: 349\tTrain Loglik: -1.945e+00\t stag: 0 converge: 0\n",
            "[2022-11-30T03:50:13.647734+00:00] Epoch: 399\tTrain Loglik: -1.916e+00\t stag: 0 converge: 0\n",
            "[2022-11-30T03:50:18.482861+00:00] Epoch: 449\tTrain Loglik: -1.886e+00\t stag: 0 converge: 12\n",
            "[2022-11-30T03:50:26.903037+00:00] Epoch: 49\tTrain Loglik: -2.311e+00\t stag: 0 converge: 0\n",
            "Learning rate decrease!\n",
            "Learning rate decrease!\n",
            "[2022-11-30T03:50:31.795349+00:00] Epoch: 99\tTrain Loglik: -2.116e+00\t stag: 3 converge: 12\n",
            "Learning rate decrease!\n",
            "Learning rate decrease!\n",
            "Learning rate decrease!\n",
            "Learning rate decrease!\n",
            "[2022-11-30T03:50:40.427086+00:00] Epoch: 49\tTrain Loglik: -2.670e+00\t stag: 0 converge: 0\n",
            "[2022-11-30T03:50:45.270395+00:00] Epoch: 99\tTrain Loglik: -2.120e+00\t stag: 0 converge: 0\n",
            "Learning rate decrease!\n",
            "Learning rate decrease!\n",
            "Learning rate decrease!\n",
            "Learning rate decrease!\n",
            "[2022-11-30T03:50:50.217724+00:00] Epoch: 149\tTrain Loglik: -2.185e+00\t stag: 3 converge: 22\n",
            "Learning rate decrease!\n",
            "Learning rate decrease!\n",
            "Learning rate decrease!\n",
            "[2022-11-30T03:50:57.664270+00:00] Epoch: 49\tTrain Loglik: -2.653e+00\t stag: 0 converge: 0\n",
            "[2022-11-30T03:51:02.634253+00:00] Epoch: 99\tTrain Loglik: -2.173e+00\t stag: 3 converge: 0\n",
            "Learning rate decrease!\n",
            "[2022-11-30T03:51:07.472482+00:00] Epoch: 149\tTrain Loglik: -2.066e+00\t stag: 0 converge: 34\n",
            "[2022-11-30T03:51:13.889951+00:00] Epoch: 49\tTrain Loglik: -2.196e+00\t stag: 1 converge: 0\n",
            "Learning rate decrease!\n",
            "Learning rate decrease!\n",
            "Learning rate decrease!\n",
            "Learning rate decrease!\n",
            "[2022-11-30T03:51:18.809339+00:00] Epoch: 99\tTrain Loglik: -2.293e+00\t stag: 1 converge: 20\n",
            "Learning rate decrease!\n",
            "Learning rate decrease!\n",
            "Learning rate decrease!\n",
            "[2022-11-30T03:51:28.373802+00:00] Epoch: 49\tTrain Loglik: -2.323e+00\t stag: 0 converge: 0\n",
            "[2022-11-30T03:51:33.200776+00:00] Epoch: 99\tTrain Loglik: -2.201e+00\t stag: 0 converge: 0\n",
            "[2022-11-30T03:51:38.132173+00:00] Epoch: 149\tTrain Loglik: -2.136e+00\t stag: 4 converge: 0\n",
            "[2022-11-30T03:51:42.982210+00:00] Epoch: 199\tTrain Loglik: -2.092e+00\t stag: 1 converge: 1\n",
            "[2022-11-30T03:51:47.814151+00:00] Epoch: 249\tTrain Loglik: -2.047e+00\t stag: 3 converge: 0\n",
            "[2022-11-30T03:51:52.871140+00:00] Epoch: 299\tTrain Loglik: -2.011e+00\t stag: 1 converge: 0\n",
            "[2022-11-30T03:51:57.728748+00:00] Epoch: 349\tTrain Loglik: -1.981e+00\t stag: 1 converge: 0\n",
            "[2022-11-30T03:52:02.823345+00:00] Epoch: 399\tTrain Loglik: -1.958e+00\t stag: 1 converge: 1\n",
            "[2022-11-30T03:52:07.649128+00:00] Epoch: 449\tTrain Loglik: -1.937e+00\t stag: 1 converge: 3\n",
            "[2022-11-30T03:52:16.989397+00:00] Epoch: 49\tTrain Loglik: -2.678e+00\t stag: 0 converge: 0\n",
            "[2022-11-30T03:52:21.827635+00:00] Epoch: 99\tTrain Loglik: -2.190e+00\t stag: 1 converge: 0\n",
            "Learning rate decrease!\n",
            "Learning rate decrease!\n",
            "Learning rate decrease!\n",
            "[2022-11-30T03:52:26.851914+00:00] Epoch: 149\tTrain Loglik: -2.065e+00\t stag: 8 converge: 17\n",
            "Learning rate decrease!\n",
            "Learning rate decrease!\n",
            "Learning rate decrease!\n",
            "Learning rate decrease!\n",
            "[2022-11-30T03:52:34.927840+00:00] Epoch: 49\tTrain Loglik: -2.387e+00\t stag: 0 converge: 0\n",
            "[2022-11-30T03:52:41.626678+00:00] Epoch: 99\tTrain Loglik: -2.851e+00\t stag: 7 converge: 0\n",
            "Learning rate decrease!\n",
            "Learning rate decrease!\n",
            "Learning rate decrease!\n",
            "Learning rate decrease!\n",
            "Learning rate decrease!\n",
            "[2022-11-30T03:52:46.567779+00:00] Epoch: 149\tTrain Loglik: -2.260e+00\t stag: 7 converge: 36\n",
            "Learning rate decrease!\n",
            "Learning rate decrease!\n",
            "[2022-11-30T03:52:52.723785+00:00] Epoch: 49\tTrain Loglik: -2.218e+00\t stag: 0 converge: 0\n",
            "Learning rate decrease!\n",
            "Learning rate decrease!\n",
            "[2022-11-30T03:52:57.617101+00:00] Epoch: 99\tTrain Loglik: -2.129e+00\t stag: 0 converge: 9\n",
            "Learning rate decrease!\n",
            "Learning rate decrease!\n",
            "Learning rate decrease!\n",
            "Learning rate decrease!\n",
            "[2022-11-30T03:53:06.464836+00:00] Epoch: 49\tTrain Loglik: -2.453e+00\t stag: 0 converge: 0\n",
            "[2022-11-30T03:53:11.292573+00:00] Epoch: 99\tTrain Loglik: -2.063e+00\t stag: 3 converge: 0\n",
            "[2022-11-30T03:53:16.194951+00:00] Epoch: 149\tTrain Loglik: -2.081e+00\t stag: 2 converge: 0\n",
            "[2022-11-30T03:53:21.068155+00:00] Epoch: 199\tTrain Loglik: -1.949e+00\t stag: 2 converge: 0\n",
            "[2022-11-30T03:53:25.962765+00:00] Epoch: 249\tTrain Loglik: -1.817e+00\t stag: 1 converge: 0\n",
            "[2022-11-30T03:53:30.771839+00:00] Epoch: 299\tTrain Loglik: -1.746e+00\t stag: 1 converge: 0\n",
            "[2022-11-30T03:53:35.710846+00:00] Epoch: 349\tTrain Loglik: -1.686e+00\t stag: 1 converge: 0\n",
            "[2022-11-30T03:53:40.739695+00:00] Epoch: 399\tTrain Loglik: -1.638e+00\t stag: 1 converge: 1\n",
            "[2022-11-30T03:53:45.821952+00:00] Epoch: 449\tTrain Loglik: -1.596e+00\t stag: 1 converge: 1\n",
            "[2022-11-30T03:53:50.608963+00:00] Epoch: 499\tTrain Loglik: -1.553e+00\t stag: 0 converge: 1\n",
            "[2022-11-30T03:53:55.492675+00:00] Epoch: 549\tTrain Loglik: -1.520e+00\t stag: 0 converge: 1\n",
            "[2022-11-30T03:54:00.541227+00:00] Epoch: 599\tTrain Loglik: -1.489e+00\t stag: 0 converge: 7\n",
            "[2022-11-30T03:54:05.473798+00:00] Epoch: 649\tTrain Loglik: -1.461e+00\t stag: 1 converge: 1\n",
            "[2022-11-30T03:54:10.364196+00:00] Epoch: 699\tTrain Loglik: -1.435e+00\t stag: 0 converge: 39\n",
            "[2022-11-30T03:54:16.082636+00:00] Epoch: 49\tTrain Loglik: -2.943e+00\t stag: 0 converge: 0\n",
            "[2022-11-30T03:54:20.890881+00:00] Epoch: 99\tTrain Loglik: -2.105e+00\t stag: 0 converge: 0\n",
            "[2022-11-30T03:54:25.692015+00:00] Epoch: 149\tTrain Loglik: -1.932e+00\t stag: 0 converge: 0\n",
            "Learning rate decrease!\n",
            "[2022-11-30T03:54:30.930350+00:00] Epoch: 199\tTrain Loglik: -1.892e+00\t stag: 0 converge: 33\n",
            "[2022-11-30T03:54:37.285749+00:00] Epoch: 49\tTrain Loglik: -2.672e+00\t stag: 2 converge: 0\n",
            "[2022-11-30T03:54:42.529502+00:00] Epoch: 99\tTrain Loglik: -2.187e+00\t stag: 5 converge: 0\n",
            "Learning rate decrease!\n",
            "[2022-11-30T03:54:48.688378+00:00] Epoch: 149\tTrain Loglik: -2.169e+00\t stag: 0 converge: 32\n",
            "[2022-11-30T03:54:55.381684+00:00] Epoch: 49\tTrain Loglik: -3.228e+00\t stag: 0 converge: 0\n",
            "[2022-11-30T03:55:00.206751+00:00] Epoch: 99\tTrain Loglik: -2.087e+00\t stag: 6 converge: 0\n",
            "Learning rate decrease!\n",
            "Learning rate decrease!\n",
            "Learning rate decrease!\n",
            "Learning rate decrease!\n",
            "Learning rate decrease!\n",
            "[2022-11-30T03:55:05.199203+00:00] Epoch: 149\tTrain Loglik: -2.215e+00\t stag: 6 converge: 35\n",
            "Learning rate decrease!\n",
            "Learning rate decrease!\n",
            "[2022-11-30T03:55:11.522802+00:00] Epoch: 49\tTrain Loglik: -2.608e+00\t stag: 0 converge: 0\n",
            "Learning rate decrease!\n",
            "[2022-11-30T03:55:16.551874+00:00] Epoch: 99\tTrain Loglik: -2.171e+00\t stag: 0 converge: 1\n",
            "[2022-11-30T03:55:21.466814+00:00] Epoch: 149\tTrain Loglik: -2.124e+00\t stag: 0 converge: 0\n",
            "[2022-11-30T03:55:26.401013+00:00] Epoch: 199\tTrain Loglik: -2.077e+00\t stag: 0 converge: 25\n",
            "[2022-11-30T03:55:33.737849+00:00] Epoch: 49\tTrain Loglik: -3.019e+00\t stag: 0 converge: 0\n",
            "[2022-11-30T03:55:38.667442+00:00] Epoch: 99\tTrain Loglik: -2.230e+00\t stag: 0 converge: 0\n",
            "[2022-11-30T03:55:43.681882+00:00] Epoch: 149\tTrain Loglik: -1.986e+00\t stag: 1 converge: 0\n",
            "[2022-11-30T03:55:48.533383+00:00] Epoch: 199\tTrain Loglik: -2.002e+00\t stag: 2 converge: 0\n",
            "[2022-11-30T03:55:53.622411+00:00] Epoch: 249\tTrain Loglik: -1.854e+00\t stag: 0 converge: 0\n",
            "[2022-11-30T03:56:00.104957+00:00] Epoch: 299\tTrain Loglik: -1.763e+00\t stag: 0 converge: 0\n",
            "[2022-11-30T03:56:05.029520+00:00] Epoch: 349\tTrain Loglik: -1.707e+00\t stag: 0 converge: 0\n",
            "[2022-11-30T03:56:10.043187+00:00] Epoch: 399\tTrain Loglik: -1.656e+00\t stag: 0 converge: 1\n",
            "[2022-11-30T03:56:15.055871+00:00] Epoch: 449\tTrain Loglik: -1.616e+00\t stag: 1 converge: 0\n",
            "[2022-11-30T03:56:19.879341+00:00] Epoch: 499\tTrain Loglik: -1.579e+00\t stag: 0 converge: 11\n",
            "[2022-11-30T03:56:28.436480+00:00] Epoch: 49\tTrain Loglik: -2.535e+00\t stag: 0 converge: 0\n",
            "[2022-11-30T03:56:33.286651+00:00] Epoch: 99\tTrain Loglik: -2.182e+00\t stag: 9 converge: 0\n",
            "Learning rate decrease!\n",
            "Learning rate decrease!\n",
            "Learning rate decrease!\n",
            "Learning rate decrease!\n",
            "Learning rate decrease!\n",
            "[2022-11-30T03:56:38.316667+00:00] Epoch: 149\tTrain Loglik: -2.158e+00\t stag: 9 converge: 47\n",
            "Learning rate decrease!\n",
            "[2022-11-30T03:56:43.572404+00:00] Epoch: 49\tTrain Loglik: -2.593e+00\t stag: 0 converge: 0\n",
            "Learning rate decrease!\n",
            "[2022-11-30T03:56:48.528750+00:00] Epoch: 99\tTrain Loglik: -2.113e+00\t stag: 0 converge: 14\n",
            "[2022-11-30T03:56:56.867275+00:00] Epoch: 49\tTrain Loglik: -2.291e+00\t stag: 0 converge: 0\n",
            "Learning rate decrease!\n",
            "Learning rate decrease!\n",
            "Learning rate decrease!\n",
            "[2022-11-30T03:57:01.898318+00:00] Epoch: 99\tTrain Loglik: -2.327e+00\t stag: 7 converge: 26\n",
            "Learning rate decrease!\n",
            "Learning rate decrease!\n",
            "Learning rate decrease!\n",
            "[2022-11-30T03:57:09.281927+00:00] Epoch: 49\tTrain Loglik: -2.328e+00\t stag: 1 converge: 0\n",
            "[2022-11-30T03:57:14.229831+00:00] Epoch: 99\tTrain Loglik: -2.423e+00\t stag: 3 converge: 0\n",
            "[2022-11-30T03:57:19.274915+00:00] Epoch: 149\tTrain Loglik: -2.170e+00\t stag: 1 converge: 0\n",
            "[2022-11-30T03:57:24.165528+00:00] Epoch: 199\tTrain Loglik: -2.106e+00\t stag: 0 converge: 0\n",
            "[2022-11-30T03:57:29.167648+00:00] Epoch: 249\tTrain Loglik: -2.025e+00\t stag: 1 converge: 1\n",
            "[2022-11-30T03:57:34.369945+00:00] Epoch: 299\tTrain Loglik: -1.981e+00\t stag: 1 converge: 0\n",
            "[2022-11-30T03:57:39.462503+00:00] Epoch: 349\tTrain Loglik: -1.939e+00\t stag: 1 converge: 0\n",
            "[2022-11-30T03:57:44.399353+00:00] Epoch: 399\tTrain Loglik: -1.907e+00\t stag: 1 converge: 1\n",
            "[2022-11-30T03:57:49.374092+00:00] Epoch: 449\tTrain Loglik: -1.860e+00\t stag: 0 converge: 4\n",
            "[2022-11-30T03:57:54.271173+00:00] Epoch: 499\tTrain Loglik: -1.825e+00\t stag: 0 converge: 25\n",
            "[2022-11-30T03:58:01.493710+00:00] Epoch: 49\tTrain Loglik: -2.477e+00\t stag: 0 converge: 0\n",
            "Learning rate decrease!\n",
            "[2022-11-30T03:58:08.424731+00:00] Epoch: 99\tTrain Loglik: -2.069e+00\t stag: 2 converge: 1\n",
            "Learning rate decrease!\n",
            "Learning rate decrease!\n",
            "Learning rate decrease!\n",
            "Learning rate decrease!\n",
            "Learning rate decrease!\n",
            "[2022-11-30T03:58:18.121733+00:00] Epoch: 49\tTrain Loglik: -2.379e+00\t stag: 0 converge: 0\n",
            "Learning rate decrease!\n",
            "Learning rate decrease!\n",
            "[2022-11-30T03:58:23.034751+00:00] Epoch: 99\tTrain Loglik: -2.195e+00\t stag: 7 converge: 6\n",
            "Learning rate decrease!\n",
            "Learning rate decrease!\n",
            "Learning rate decrease!\n",
            "Learning rate decrease!\n",
            "Learning rate decrease!\n",
            "[2022-11-30T03:58:32.296084+00:00] Epoch: 49\tTrain Loglik: -2.479e+00\t stag: 0 converge: 0\n",
            "Learning rate decrease!\n",
            "[2022-11-30T03:58:37.082958+00:00] Epoch: 99\tTrain Loglik: -2.097e+00\t stag: 3 converge: 2\n",
            "Learning rate decrease!\n",
            "Learning rate decrease!\n",
            "Learning rate decrease!\n",
            "Learning rate decrease!\n",
            "Learning rate decrease!\n",
            "[2022-11-30T03:58:46.667873+00:00] Epoch: 49\tTrain Loglik: -2.379e+00\t stag: 0 converge: 0\n",
            "[2022-11-30T03:58:51.521242+00:00] Epoch: 99\tTrain Loglik: -2.293e+00\t stag: 1 converge: 0\n",
            "[2022-11-30T03:58:56.554471+00:00] Epoch: 149\tTrain Loglik: -2.253e+00\t stag: 0 converge: 1\n",
            "[2022-11-30T03:59:01.349521+00:00] Epoch: 199\tTrain Loglik: -2.241e+00\t stag: 1 converge: 0\n",
            "Learning rate decrease!\n",
            "Learning rate decrease!\n",
            "Learning rate decrease!\n",
            "Learning rate decrease!\n",
            "Learning rate decrease!\n",
            "[2022-11-30T03:59:06.181434+00:00] Epoch: 249\tTrain Loglik: -2.238e+00\t stag: 1 converge: 30\n",
            "Learning rate decrease!\n",
            "Learning rate decrease!\n",
            "[2022-11-30T03:59:13.334260+00:00] Epoch: 49\tTrain Loglik: -3.055e+00\t stag: 0 converge: 0\n",
            "Learning rate decrease!\n",
            "Learning rate decrease!\n",
            "[2022-11-30T03:59:20.088522+00:00] Epoch: 99\tTrain Loglik: -2.430e+00\t stag: 2 converge: 1\n",
            "Learning rate decrease!\n",
            "Learning rate decrease!\n",
            "Learning rate decrease!\n",
            "Learning rate decrease!\n",
            "Learning rate decrease!\n",
            "[2022-11-30T03:59:29.986934+00:00] Epoch: 49\tTrain Loglik: -2.464e+00\t stag: 1 converge: 0\n",
            "Learning rate decrease!\n",
            "Learning rate decrease!\n",
            "Learning rate decrease!\n",
            "[2022-11-30T03:59:34.849809+00:00] Epoch: 99\tTrain Loglik: -2.292e+00\t stag: 0 converge: 19\n",
            "Learning rate decrease!\n",
            "Learning rate decrease!\n",
            "Learning rate decrease!\n",
            "[2022-11-30T03:59:42.788114+00:00] Epoch: 49\tTrain Loglik: -2.479e+00\t stag: 0 converge: 0\n",
            "Learning rate decrease!\n",
            "[2022-11-30T03:59:47.759868+00:00] Epoch: 99\tTrain Loglik: -2.184e+00\t stag: 0 converge: 17\n",
            "[2022-11-30T03:59:55.797674+00:00] Epoch: 49\tTrain Loglik: -2.354e+00\t stag: 0 converge: 0\n",
            "[2022-11-30T04:00:00.814751+00:00] Epoch: 99\tTrain Loglik: -2.166e+00\t stag: 1 converge: 0\n",
            "[2022-11-30T04:00:05.717247+00:00] Epoch: 149\tTrain Loglik: -2.087e+00\t stag: 6 converge: 0\n",
            "Learning rate decrease!\n",
            "[2022-11-30T04:00:10.681658+00:00] Epoch: 199\tTrain Loglik: -2.059e+00\t stag: 0 converge: 45\n",
            "[2022-11-30T04:00:16.003458+00:00] Epoch: 49\tTrain Loglik: -2.381e+00\t stag: 2 converge: 0\n",
            "Learning rate decrease!\n",
            "Learning rate decrease!\n",
            "Learning rate decrease!\n",
            "Learning rate decrease!\n",
            "[2022-11-30T04:00:20.958928+00:00] Epoch: 99\tTrain Loglik: -2.351e+00\t stag: 7 converge: 26\n",
            "Learning rate decrease!\n",
            "Learning rate decrease!\n",
            "Learning rate decrease!\n",
            "[2022-11-30T04:00:28.259013+00:00] Epoch: 49\tTrain Loglik: -2.306e+00\t stag: 0 converge: 0\n",
            "Learning rate decrease!\n",
            "Learning rate decrease!\n",
            "Learning rate decrease!\n",
            "Learning rate decrease!\n",
            "[2022-11-30T04:00:33.248064+00:00] Epoch: 99\tTrain Loglik: -2.283e+00\t stag: 3 converge: 22\n",
            "Learning rate decrease!\n",
            "Learning rate decrease!\n",
            "Learning rate decrease!\n",
            "[2022-11-30T04:00:40.886320+00:00] Epoch: 49\tTrain Loglik: -2.323e+00\t stag: 0 converge: 0\n",
            "Learning rate decrease!\n",
            "Learning rate decrease!\n",
            "Learning rate decrease!\n",
            "Learning rate decrease!\n",
            "[2022-11-30T04:00:45.973916+00:00] Epoch: 99\tTrain Loglik: -2.653e+00\t stag: 7 converge: 26\n",
            "Learning rate decrease!\n",
            "Learning rate decrease!\n",
            "Learning rate decrease!\n",
            "[2022-11-30T04:00:53.166291+00:00] Epoch: 49\tTrain Loglik: -2.107e+00\t stag: 0 converge: 0\n",
            "[2022-11-30T04:00:58.034883+00:00] Epoch: 99\tTrain Loglik: -1.971e+00\t stag: 0 converge: 1\n",
            "[2022-11-30T04:01:03.117739+00:00] Epoch: 149\tTrain Loglik: -1.940e+00\t stag: 5 converge: 0\n",
            "[2022-11-30T04:01:08.076509+00:00] Epoch: 199\tTrain Loglik: -1.916e+00\t stag: 3 converge: 0\n",
            "[2022-11-30T04:01:12.995902+00:00] Epoch: 249\tTrain Loglik: -1.898e+00\t stag: 1 converge: 0\n",
            "[2022-11-30T04:01:17.941332+00:00] Epoch: 299\tTrain Loglik: -1.880e+00\t stag: 1 converge: 0\n",
            "[2022-11-30T04:01:22.852029+00:00] Epoch: 349\tTrain Loglik: -1.861e+00\t stag: 0 converge: 5\n",
            "[2022-11-30T04:01:33.775122+00:00] Epoch: 49\tTrain Loglik: -2.936e+00\t stag: 0 converge: 0\n",
            "[2022-11-30T04:01:38.624275+00:00] Epoch: 99\tTrain Loglik: -2.269e+00\t stag: 1 converge: 0\n",
            "[2022-11-30T04:01:43.577426+00:00] Epoch: 149\tTrain Loglik: -2.071e+00\t stag: 1 converge: 0\n",
            "[2022-11-30T04:01:48.415113+00:00] Epoch: 199\tTrain Loglik: -1.966e+00\t stag: 0 converge: 0\n",
            "[2022-11-30T04:01:53.336941+00:00] Epoch: 249\tTrain Loglik: -1.901e+00\t stag: 0 converge: 1\n",
            "[2022-11-30T04:01:58.156378+00:00] Epoch: 299\tTrain Loglik: -1.836e+00\t stag: 0 converge: 0\n",
            "[2022-11-30T04:02:03.213632+00:00] Epoch: 349\tTrain Loglik: -1.778e+00\t stag: 0 converge: 0\n",
            "[2022-11-30T04:02:08.177266+00:00] Epoch: 399\tTrain Loglik: -1.721e+00\t stag: 0 converge: 0\n",
            "[2022-11-30T04:02:13.184399+00:00] Epoch: 449\tTrain Loglik: -1.668e+00\t stag: 0 converge: 0\n",
            "[2022-11-30T04:02:18.108830+00:00] Epoch: 499\tTrain Loglik: -1.624e+00\t stag: 0 converge: 0\n",
            "[2022-11-30T04:02:23.147216+00:00] Epoch: 549\tTrain Loglik: -1.582e+00\t stag: 0 converge: 0\n",
            "[2022-11-30T04:02:28.097116+00:00] Epoch: 599\tTrain Loglik: -1.544e+00\t stag: 0 converge: 0\n",
            "[2022-11-30T04:02:32.959131+00:00] Epoch: 649\tTrain Loglik: -1.517e+00\t stag: 0 converge: 0\n",
            "[2022-11-30T04:02:39.155109+00:00] Epoch: 699\tTrain Loglik: -1.481e+00\t stag: 0 converge: 0\n",
            "[2022-11-30T04:02:44.374449+00:00] Epoch: 749\tTrain Loglik: -1.461e+00\t stag: 0 converge: 0\n",
            "[2022-11-30T04:02:49.290678+00:00] Epoch: 799\tTrain Loglik: -1.429e+00\t stag: 0 converge: 0\n",
            "[2022-11-30T04:02:54.164893+00:00] Epoch: 849\tTrain Loglik: -1.408e+00\t stag: 0 converge: 0\n",
            "[2022-11-30T04:02:59.168218+00:00] Epoch: 899\tTrain Loglik: -1.381e+00\t stag: 0 converge: 0\n",
            "[2022-11-30T04:03:04.112905+00:00] Epoch: 949\tTrain Loglik: -1.360e+00\t stag: 0 converge: 0\n",
            "[2022-11-30T04:03:08.993362+00:00] Epoch: 999\tTrain Loglik: -1.336e+00\t stag: 0 converge: 0\n"
          ]
        }
      ]
    },
    {
      "cell_type": "code",
      "source": [],
      "metadata": {
        "id": "0XtInFK1kjP-"
      },
      "execution_count": null,
      "outputs": []
    },
    {
      "cell_type": "code",
      "source": [],
      "metadata": {
        "id": "VG9gJ4wjkjSP"
      },
      "execution_count": null,
      "outputs": []
    },
    {
      "cell_type": "code",
      "source": [],
      "metadata": {
        "id": "Tb8PddVekjYR"
      },
      "execution_count": null,
      "outputs": []
    },
    {
      "cell_type": "code",
      "source": [
        "np.save(dir_path + \"/%s_testing_llk.npy\" % modelname, wo_fed_test_llk)"
      ],
      "metadata": {
        "id": "TKVLCcoQ_p0_"
      },
      "execution_count": 20,
      "outputs": []
    },
    {
      "cell_type": "code",
      "source": [
        "plt.imshow(init_model.kernel._alphas.detach().numpy())"
      ],
      "metadata": {
        "colab": {
          "base_uri": "https://localhost:8080/",
          "height": 283
        },
        "id": "6uUxChZZQOSn",
        "outputId": "fd718860-1e9e-4f12-a563-e2b5603c16f9"
      },
      "execution_count": 21,
      "outputs": [
        {
          "output_type": "execute_result",
          "data": {
            "text/plain": [
              "<matplotlib.image.AxesImage at 0x7fe4d804add0>"
            ]
          },
          "metadata": {},
          "execution_count": 21
        },
        {
          "output_type": "display_data",
          "data": {
            "text/plain": [
              "<Figure size 432x288 with 1 Axes>"
            ],
            "image/png": "[encoded data removed]"
          },
          "metadata": {
            "needs_background": "light"
          }
        }
      ]
    },
    {
      "cell_type": "code",
      "source": [
        "plt.imshow(wo_fed_test_llk)"
      ],
      "metadata": {
        "colab": {
          "base_uri": "https://localhost:8080/",
          "height": 285
        },
        "id": "l3R9T0t8Xpr6",
        "outputId": "d3dae507-b541-4b81-b99c-03791c96a816"
      },
      "execution_count": 22,
      "outputs": [
        {
          "output_type": "execute_result",
          "data": {
            "text/plain": [
              "<matplotlib.image.AxesImage at 0x7fe4d7fa0d50>"
            ]
          },
          "metadata": {},
          "execution_count": 22
        },
        {
          "output_type": "display_data",
          "data": {
            "text/plain": [
              "<Figure size 432x288 with 1 Axes>"
            ],
            "image/png": "[encoded data removed]"
          },
          "metadata": {
            "needs_background": "light"
          }
        }
      ]
    },
    {
      "cell_type": "code",
      "source": [
        "wo_fed_test_llk = np.load(dir_path + \"/No_Fed_testing.npy\")"
      ],
      "metadata": {
        "id": "dahndzkJaZmE"
      },
      "execution_count": 32,
      "outputs": []
    },
    {
      "cell_type": "code",
      "source": [
        "wo_fed_test_llk.mean()"
      ],
      "metadata": {
        "colab": {
          "base_uri": "https://localhost:8080/"
        },
        "id": "PuJnqe4Mas03",
        "outputId": "8ed79ef3-37fa-4dcb-b343-e9c3f09a2d0f"
      },
      "execution_count": 33,
      "outputs": [
        {
          "output_type": "execute_result",
          "data": {
            "text/plain": [
              "-2.2543094777432553"
            ]
          },
          "metadata": {},
          "execution_count": 33
        }
      ]
    },
    {
      "cell_type": "markdown",
      "source": [],
      "metadata": {
        "id": "l9NyB1WOVn4y"
      }
    },
    {
      "cell_type": "code",
      "source": [
        "plt.plot(init_model.kernel._beta.detach().numpy())"
      ],
      "metadata": {
        "colab": {
          "base_uri": "https://localhost:8080/",
          "height": 283
        },
        "id": "s8KZdTntSxll",
        "outputId": "3b815d1d-a9c2-47e6-fcf5-34c8bd360405"
      },
      "execution_count": null,
      "outputs": [
        {
          "output_type": "execute_result",
          "data": {
            "text/plain": [
              "[<matplotlib.lines.Line2D at 0x7ff806892950>]"
            ]
          },
          "metadata": {},
          "execution_count": 89
        },
        {
          "output_type": "display_data",
          "data": {
            "text/plain": [
              "<Figure size 432x288 with 1 Axes>"
            ],
            "image/png": "[encoded data removed]"
          },
          "metadata": {
            "needs_background": "light"
          }
        }
      ]
    },
    {
      "cell_type": "code",
      "source": [
        "init_model.kernel._beta.detach().numpy()"
      ],
      "metadata": {
        "colab": {
          "base_uri": "https://localhost:8080/"
        },
        "id": "d7r1iibES9CN",
        "outputId": "9f31fa59-2fd3-487a-af55-422792048a96"
      },
      "execution_count": null,
      "outputs": [
        {
          "output_type": "execute_result",
          "data": {
            "text/plain": [
              "array([3.33075412e-01, 1.00000000e-05, 1.00000000e-05, 8.17423661e-03,\n",
              "       3.42687872e+00, 8.24890602e-01, 6.96250672e-03, 1.75350690e-03,\n",
              "       3.76325095e+00, 3.12796746e-01, 1.00000000e-05])"
            ]
          },
          "metadata": {},
          "execution_count": 90
        }
      ]
    },
    {
      "cell_type": "code",
      "source": [],
      "metadata": {
        "id": "yY3UPpw6UaTP"
      },
      "execution_count": null,
      "outputs": []
    },
    {
      "cell_type": "markdown",
      "source": [
        "# Results"
      ],
      "metadata": {
        "id": "Lq94DcJdkmPH"
      }
    },
    {
      "cell_type": "markdown",
      "source": [
        "National Data Baseline"
      ],
      "metadata": {
        "id": "jIBbvKEuk-Vd"
      }
    },
    {
      "cell_type": "code",
      "source": [
        "init_model = MultivariateExponentialHawkes(T=T, mu=mu, alphas=alphas, beta=beta,\n",
        "                                            data_dim=data_dim, device=device)\n",
        "\n",
        "dir_path = rootpath + \"/Results/saved_models\"\n",
        "modelname  = \"No_Fed-constant-mu%.3f-%d_train-state-%d\" % (0.01, seed, 51)\n",
        "modelpath = dir_path + \"/%s.pth\" % modelname\n",
        "\n",
        "init_model.load_state_dict(torch.load(\"%s\" % modelpath))\n",
        "# init_model._mu = torch.nn.Parameter(torch.ones(11) * 1e-2, requires_grad=False)"
      ],
      "metadata": {
        "colab": {
          "base_uri": "https://localhost:8080/"
        },
        "id": "gyi1-ow7km5a",
        "outputId": "5e05e73d-132c-4b03-ac90-10382dad0218"
      },
      "execution_count": 71,
      "outputs": [
        {
          "output_type": "execute_result",
          "data": {
            "text/plain": [
              "<All keys matched successfully>"
            ]
          },
          "metadata": {},
          "execution_count": 71
        }
      ]
    },
    {
      "cell_type": "code",
      "source": [
        "nation_test_llk = []\n",
        "\n",
        "with torch.no_grad():\n",
        "    for j in range(51):\n",
        "        test_set   = torch.FloatTensor(test_data[[j]])\n",
        "        test_loglik = init_model(test_set.to(\"cpu\"))\n",
        "        test_event_llk = test_loglik / test_event_num[j]\n",
        "        nation_test_llk.append(test_event_llk.item())"
      ],
      "metadata": {
        "id": "9tOg3jB5lQZL"
      },
      "execution_count": 72,
      "outputs": []
    },
    {
      "cell_type": "code",
      "source": [
        "np.mean(nation_test_llk)"
      ],
      "metadata": {
        "colab": {
          "base_uri": "https://localhost:8080/"
        },
        "id": "I6LexDr_ldvw",
        "outputId": "6254a083-a481-4d4e-fd2a-2a2a202bf11e"
      },
      "execution_count": 73,
      "outputs": [
        {
          "output_type": "execute_result",
          "data": {
            "text/plain": [
              "-1.4892034649421042"
            ]
          },
          "metadata": {},
          "execution_count": 73
        }
      ]
    },
    {
      "cell_type": "markdown",
      "source": [
        "Model ensemble"
      ],
      "metadata": {
        "id": "IjDktr-ulnd8"
      }
    },
    {
      "cell_type": "code",
      "source": [
        "alphas = []\n",
        "betas = []\n",
        "\n",
        "dir_path = rootpath + \"/Results/saved_models\"\n",
        "\n",
        "for i in range(51):\n",
        "    modelname  = \"No_Fed-constant-mu%.3f-%d_train-state-%d\" % (0.01, seed, i)\n",
        "    modelpath = dir_path + \"/%s.pth\" % modelname\n",
        "    paras = torch.load(\"%s\" % modelpath)\n",
        "\n",
        "    alphas.append(paras[\"kernel._alphas\"].numpy())\n",
        "    betas.append(paras[\"kernel._beta\"].numpy())"
      ],
      "metadata": {
        "id": "UT4HL9unlpI6"
      },
      "execution_count": 74,
      "outputs": []
    },
    {
      "cell_type": "code",
      "source": [
        "alphas = np.stack(alphas, axis = 0).mean(0)\n",
        "beta = np.stack(betas, axis = 0).mean(0)\n",
        "mu = np.ones(11) * 0.01\n",
        "\n",
        "init_model = MultivariateExponentialHawkes(T=T, mu=mu, alphas=alphas, beta=beta,\n",
        "                                            data_dim=data_dim, device=device)"
      ],
      "metadata": {
        "id": "RxS032eZmmY4"
      },
      "execution_count": 75,
      "outputs": []
    },
    {
      "cell_type": "code",
      "source": [
        "ens_test_llk = []\n",
        "\n",
        "with torch.no_grad():\n",
        "    for j in range(51):\n",
        "        test_set   = torch.FloatTensor(test_data[[j]])\n",
        "        test_loglik = init_model(test_set.to(\"cpu\"))\n",
        "        test_event_llk = test_loglik / test_event_num[j]\n",
        "        ens_test_llk.append(test_event_llk.item())"
      ],
      "metadata": {
        "id": "gsvpysyom80H"
      },
      "execution_count": 76,
      "outputs": []
    },
    {
      "cell_type": "code",
      "source": [
        "np.mean(ens_test_llk)"
      ],
      "metadata": {
        "colab": {
          "base_uri": "https://localhost:8080/"
        },
        "id": "BDjWPxLvnBnA",
        "outputId": "c79f351e-020c-4a0a-918f-50359908fd8f"
      },
      "execution_count": 77,
      "outputs": [
        {
          "output_type": "execute_result",
          "data": {
            "text/plain": [
              "-3.06227251545091"
            ]
          },
          "metadata": {},
          "execution_count": 77
        }
      ]
    },
    {
      "cell_type": "code",
      "source": [],
      "metadata": {
        "id": "t99gyjhlnDDR"
      },
      "execution_count": null,
      "outputs": []
    }
  ]
}