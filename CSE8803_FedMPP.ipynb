{
  "nbformat": 4,
  "nbformat_minor": 0,
  "metadata": {
    "colab": {
      "provenance": [],
      "toc_visible": true
    },
    "kernelspec": {
      "name": "python3",
      "display_name": "Python 3"
    },
    "language_info": {
      "name": "python"
    }
  },
  "cells": [
    {
      "cell_type": "code",
      "execution_count": 1,
      "metadata": {
        "id": "XWQGBQwshUq2",
        "colab": {
          "base_uri": "https://localhost:8080/"
        },
        "outputId": "ecce4b05-28ff-4c0b-97c7-51a301c61db9"
      },
      "outputs": [
        {
          "output_type": "stream",
          "name": "stdout",
          "text": [
            "Mounted at /content/drive\n"
          ]
        }
      ],
      "source": [
        "from google.colab import drive\n",
        "drive.mount('/content/drive')"
      ]
    },
    {
      "cell_type": "code",
      "source": [
        "!pip install arrow\n",
        "!pip install geopandas\n",
        "# !pip install osmnx==1.1.1\n",
        "# !pip install pandana\n",
        "!pip install haversine\n",
        "!pip install --upgrade folium\n",
        "!pip install --upgrade statsmodels"
      ],
      "metadata": {
        "colab": {
          "base_uri": "https://localhost:8080/"
        },
        "id": "3UdiXQ6wtt94",
        "outputId": "3dfe8eb1-3c0e-4ab9-a632-c27d7beaf9bb"
      },
      "execution_count": 2,
      "outputs": [
        {
          "output_type": "stream",
          "name": "stdout",
          "text": [
            "Looking in indexes: https://pypi.org/simple, https://us-python.pkg.dev/colab-wheels/public/simple/\n",
            "Collecting arrow\n",
            "  Downloading arrow-1.2.3-py3-none-any.whl (66 kB)\n",
            "\u001b[K     |████████████████████████████████| 66 kB 310 kB/s \n",
            "\u001b[?25hRequirement already satisfied: python-dateutil>=2.7.0 in /usr/local/lib/python3.7/dist-packages (from arrow) (2.8.2)\n",
            "Requirement already satisfied: typing-extensions in /usr/local/lib/python3.7/dist-packages (from arrow) (4.1.1)\n",
            "Requirement already satisfied: six>=1.5 in /usr/local/lib/python3.7/dist-packages (from python-dateutil>=2.7.0->arrow) (1.15.0)\n",
            "Installing collected packages: arrow\n",
            "Successfully installed arrow-1.2.3\n",
            "Looking in indexes: https://pypi.org/simple, https://us-python.pkg.dev/colab-wheels/public/simple/\n",
            "Collecting geopandas\n",
            "  Downloading geopandas-0.10.2-py2.py3-none-any.whl (1.0 MB)\n",
            "\u001b[K     |████████████████████████████████| 1.0 MB 4.2 MB/s \n",
            "\u001b[?25hRequirement already satisfied: pandas>=0.25.0 in /usr/local/lib/python3.7/dist-packages (from geopandas) (1.3.5)\n",
            "Requirement already satisfied: shapely>=1.6 in /usr/local/lib/python3.7/dist-packages (from geopandas) (1.8.5.post1)\n",
            "Collecting fiona>=1.8\n",
            "  Downloading Fiona-1.8.22-cp37-cp37m-manylinux2014_x86_64.whl (16.7 MB)\n",
            "\u001b[K     |████████████████████████████████| 16.7 MB 42.5 MB/s \n",
            "\u001b[?25hCollecting pyproj>=2.2.0\n",
            "  Downloading pyproj-3.2.1-cp37-cp37m-manylinux2010_x86_64.whl (6.3 MB)\n",
            "\u001b[K     |████████████████████████████████| 6.3 MB 32.2 MB/s \n",
            "\u001b[?25hRequirement already satisfied: click>=4.0 in /usr/local/lib/python3.7/dist-packages (from fiona>=1.8->geopandas) (7.1.2)\n",
            "Requirement already satisfied: six>=1.7 in /usr/local/lib/python3.7/dist-packages (from fiona>=1.8->geopandas) (1.15.0)\n",
            "Collecting cligj>=0.5\n",
            "  Downloading cligj-0.7.2-py3-none-any.whl (7.1 kB)\n",
            "Requirement already satisfied: certifi in /usr/local/lib/python3.7/dist-packages (from fiona>=1.8->geopandas) (2022.9.24)\n",
            "Collecting munch\n",
            "  Downloading munch-2.5.0-py2.py3-none-any.whl (10 kB)\n",
            "Requirement already satisfied: setuptools in /usr/local/lib/python3.7/dist-packages (from fiona>=1.8->geopandas) (57.4.0)\n",
            "Collecting click-plugins>=1.0\n",
            "  Downloading click_plugins-1.1.1-py2.py3-none-any.whl (7.5 kB)\n",
            "Requirement already satisfied: attrs>=17 in /usr/local/lib/python3.7/dist-packages (from fiona>=1.8->geopandas) (22.1.0)\n",
            "Requirement already satisfied: numpy>=1.17.3 in /usr/local/lib/python3.7/dist-packages (from pandas>=0.25.0->geopandas) (1.21.6)\n",
            "Requirement already satisfied: pytz>=2017.3 in /usr/local/lib/python3.7/dist-packages (from pandas>=0.25.0->geopandas) (2022.6)\n",
            "Requirement already satisfied: python-dateutil>=2.7.3 in /usr/local/lib/python3.7/dist-packages (from pandas>=0.25.0->geopandas) (2.8.2)\n",
            "Installing collected packages: munch, cligj, click-plugins, pyproj, fiona, geopandas\n",
            "Successfully installed click-plugins-1.1.1 cligj-0.7.2 fiona-1.8.22 geopandas-0.10.2 munch-2.5.0 pyproj-3.2.1\n",
            "Looking in indexes: https://pypi.org/simple, https://us-python.pkg.dev/colab-wheels/public/simple/\n",
            "Collecting haversine\n",
            "  Downloading haversine-2.7.0-py2.py3-none-any.whl (6.9 kB)\n",
            "Installing collected packages: haversine\n",
            "Successfully installed haversine-2.7.0\n",
            "Looking in indexes: https://pypi.org/simple, https://us-python.pkg.dev/colab-wheels/public/simple/\n",
            "Requirement already satisfied: folium in /usr/local/lib/python3.7/dist-packages (0.12.1.post1)\n",
            "Collecting folium\n",
            "  Downloading folium-0.13.0-py2.py3-none-any.whl (96 kB)\n",
            "\u001b[K     |████████████████████████████████| 96 kB 2.7 MB/s \n",
            "\u001b[?25hRequirement already satisfied: numpy in /usr/local/lib/python3.7/dist-packages (from folium) (1.21.6)\n",
            "Requirement already satisfied: branca>=0.3.0 in /usr/local/lib/python3.7/dist-packages (from folium) (0.6.0)\n",
            "Requirement already satisfied: requests in /usr/local/lib/python3.7/dist-packages (from folium) (2.23.0)\n",
            "Requirement already satisfied: jinja2>=2.9 in /usr/local/lib/python3.7/dist-packages (from folium) (2.11.3)\n",
            "Requirement already satisfied: MarkupSafe>=0.23 in /usr/local/lib/python3.7/dist-packages (from jinja2>=2.9->folium) (2.0.1)\n",
            "Requirement already satisfied: idna<3,>=2.5 in /usr/local/lib/python3.7/dist-packages (from requests->folium) (2.10)\n",
            "Requirement already satisfied: chardet<4,>=3.0.2 in /usr/local/lib/python3.7/dist-packages (from requests->folium) (3.0.4)\n",
            "Requirement already satisfied: urllib3!=1.25.0,!=1.25.1,<1.26,>=1.21.1 in /usr/local/lib/python3.7/dist-packages (from requests->folium) (1.24.3)\n",
            "Requirement already satisfied: certifi>=2017.4.17 in /usr/local/lib/python3.7/dist-packages (from requests->folium) (2022.9.24)\n",
            "Installing collected packages: folium\n",
            "  Attempting uninstall: folium\n",
            "    Found existing installation: folium 0.12.1.post1\n",
            "    Uninstalling folium-0.12.1.post1:\n",
            "      Successfully uninstalled folium-0.12.1.post1\n",
            "Successfully installed folium-0.13.0\n",
            "Looking in indexes: https://pypi.org/simple, https://us-python.pkg.dev/colab-wheels/public/simple/\n",
            "Requirement already satisfied: statsmodels in /usr/local/lib/python3.7/dist-packages (0.12.2)\n",
            "Collecting statsmodels\n",
            "  Downloading statsmodels-0.13.5-cp37-cp37m-manylinux_2_17_x86_64.manylinux2014_x86_64.whl (9.9 MB)\n",
            "\u001b[K     |████████████████████████████████| 9.9 MB 3.6 MB/s \n",
            "\u001b[?25hRequirement already satisfied: numpy>=1.17 in /usr/local/lib/python3.7/dist-packages (from statsmodels) (1.21.6)\n",
            "Requirement already satisfied: packaging>=21.3 in /usr/local/lib/python3.7/dist-packages (from statsmodels) (21.3)\n",
            "Requirement already satisfied: scipy>=1.3 in /usr/local/lib/python3.7/dist-packages (from statsmodels) (1.7.3)\n",
            "Requirement already satisfied: patsy>=0.5.2 in /usr/local/lib/python3.7/dist-packages (from statsmodels) (0.5.3)\n",
            "Requirement already satisfied: pandas>=0.25 in /usr/local/lib/python3.7/dist-packages (from statsmodels) (1.3.5)\n",
            "Requirement already satisfied: pyparsing!=3.0.5,>=2.0.2 in /usr/local/lib/python3.7/dist-packages (from packaging>=21.3->statsmodels) (3.0.9)\n",
            "Requirement already satisfied: pytz>=2017.3 in /usr/local/lib/python3.7/dist-packages (from pandas>=0.25->statsmodels) (2022.6)\n",
            "Requirement already satisfied: python-dateutil>=2.7.3 in /usr/local/lib/python3.7/dist-packages (from pandas>=0.25->statsmodels) (2.8.2)\n",
            "Requirement already satisfied: six in /usr/local/lib/python3.7/dist-packages (from patsy>=0.5.2->statsmodels) (1.15.0)\n",
            "Installing collected packages: statsmodels\n",
            "  Attempting uninstall: statsmodels\n",
            "    Found existing installation: statsmodels 0.12.2\n",
            "    Uninstalling statsmodels-0.12.2:\n",
            "      Successfully uninstalled statsmodels-0.12.2\n",
            "Successfully installed statsmodels-0.13.5\n"
          ]
        }
      ]
    },
    {
      "cell_type": "code",
      "source": [
        "import numpy as np\n",
        "import pandas as pd\n",
        "import matplotlib.pyplot as plt\n",
        "\n",
        "import random\n",
        "import branca\n",
        "import folium\n",
        "import geopandas as gpd\n",
        "import seaborn as sns\n",
        "import cProfile\n",
        "import sys\n",
        "import pickle\n",
        "import arrow\n",
        "import datetime\n",
        "from argparse import ArgumentParser\n",
        "\n",
        "from shapely.geometry import Polygon, Point, MultiPoint, MultiPolygon\n",
        "from shapely.affinity import affine_transform\n",
        "from descartes.patch import PolygonPatch\n",
        "from shapely.ops import cascaded_union\n",
        "from matplotlib.path import Path\n",
        "\n",
        "from scipy.stats import multivariate_normal\n",
        "from scipy.spatial.distance import pdist, squareform\n",
        "from scipy.stats import gaussian_kde\n",
        "\n",
        "from sklearn import preprocessing\n",
        "from sklearn.cluster import KMeans\n",
        "\n",
        "import scipy.sparse as sp"
      ],
      "metadata": {
        "id": "BtpDyAuquJsp"
      },
      "execution_count": 3,
      "outputs": []
    },
    {
      "cell_type": "code",
      "source": [
        "import torch\n",
        "import torch.optim as optim\n",
        "import torch.nn.functional as F\n",
        "from torch.utils.data import TensorDataset, DataLoader\n",
        "from abc import ABC, abstractmethod\n",
        "import networkx as nx\n",
        "from community import community_louvain\n",
        "from haversine import haversine, haversine_vector"
      ],
      "metadata": {
        "id": "hTwC8YUVuK-f"
      },
      "execution_count": 4,
      "outputs": []
    },
    {
      "cell_type": "code",
      "source": [
        "%matplotlib inline\n",
        "\n",
        "import warnings\n",
        "warnings.filterwarnings(\"ignore\")\n",
        "import os\n",
        "import itertools"
      ],
      "metadata": {
        "id": "NMiTfYfyuNrJ"
      },
      "execution_count": 5,
      "outputs": []
    },
    {
      "cell_type": "markdown",
      "source": [
        "# Kernel"
      ],
      "metadata": {
        "id": "dnWCQeXvuiYf"
      }
    },
    {
      "cell_type": "code",
      "source": [
        "class Multivariate_Exponential_Kernel(torch.nn.Module):\n",
        "    \"\"\"\n",
        "    Exponential Decaying Kernel\n",
        "    \"\"\"\n",
        "    def __init__(self, alphas, beta, device):\n",
        "        \"\"\"\n",
        "        Arg:\n",
        "        - alphas: influence coefficient matrix, numpy array                     [ n_class, n_class ]\n",
        "        - beta: temporal decaying parameter for historical influence, numpy array        [ n_class ]\n",
        "        - device: cpu or cuda\n",
        "        \"\"\"\n",
        "        super(Multivariate_Exponential_Kernel, self).__init__()\n",
        "\n",
        "        # configuration\n",
        "        self._alphas     = torch.nn.Parameter(torch.tensor(alphas))\n",
        "        self._beta       = torch.nn.Parameter(torch.tensor(beta))\n",
        "        self.n_class     = alphas.shape[0]\n",
        "\n",
        "    def init_paras(self):\n",
        "        \"\"\"\n",
        "        initialize model parameters\n",
        "        \"\"\"\n",
        "\n",
        "        self._alphas.data = torch.empty(torch.empty(self.n_class, self.n_class).uniform_(0,to=self.init_std)).to(self._alphas.device)\n",
        "        self._beta.data = torch.empty(torch.empty(self.n_class).uniform_(0,to=self.init_std)).to(self._beta.device)\n",
        "    \n",
        "    def forward(self, x, y):\n",
        "        \"\"\"\n",
        "        customized forward function returning kernel evaluation at index x and y \n",
        "        - x: the current input (t, type) [ batch_size, data_dim = 2 ]\n",
        "        - y: the history input (t, type) [ batch_size, data_dim = 2 ]\n",
        "        \"\"\"\n",
        "\n",
        "        batch_size   = x.shape[0]\n",
        "        alphas_hist  = self._alphas[x[:, 1].long(), y[:, 1].long()]\n",
        "        beta_hist    = self._beta[y[:, 1].long()]\n",
        "\n",
        "        mask         = x[:, 0] > 0\n",
        "        tds          = (x[:, 0] - y[:, 0]) * mask\n",
        "\n",
        "        return alphas_hist * beta_hist * torch.exp(- beta_hist * tds) * mask    # [ batch_size ]"
      ],
      "metadata": {
        "id": "b0Af2HxLuT3Z"
      },
      "execution_count": 67,
      "outputs": []
    },
    {
      "cell_type": "code",
      "source": [],
      "metadata": {
        "id": "zla5IzsJzTAn"
      },
      "execution_count": null,
      "outputs": []
    },
    {
      "cell_type": "markdown",
      "source": [
        "# PP"
      ],
      "metadata": {
        "id": "LTEcUKlNzT68"
      }
    },
    {
      "cell_type": "code",
      "source": [
        "class BasePointProcess(torch.nn.Module):\n",
        "    \"\"\"\n",
        "    PyTorch Module for Multivariate Point Process with diffusion kernel\n",
        "    \"\"\"\n",
        "\n",
        "    def __init__(self, T, mu, data_dim, device):\n",
        "        \"\"\"\n",
        "        data dim = 8\n",
        "\n",
        "        Args:\n",
        "        \"\"\"\n",
        "        super(BasePointProcess, self).__init__()\n",
        "        self.data_dim      = data_dim\n",
        "        self.T             = T # time horizon. e.g. (0, 1)\n",
        "        self.device        = device\n",
        "        self.n_class       = len(mu)\n",
        "        \n",
        "        # parameters\n",
        "        self._mu = torch.nn.Parameter(torch.tensor(mu), requires_grad=False)\n",
        "        # # pre-compute\n",
        "        # self.data_transformation()\n",
        "\n",
        "    def cond_lambda(self, xi, hti):\n",
        "        \"\"\"\n",
        "        return conditional intensity given x\n",
        "        Args:\n",
        "        - xi:   current i-th point       [ batch_size, data_dim ]\n",
        "        - hti:  history points before ti [ batch_size, seq_len, data_dim ]\n",
        "        Return:\n",
        "        - lami: i-th lambda              [ batch_size ]\n",
        "        \"\"\"\n",
        "        batch_size, seq_len, _ = hti.shape\n",
        "        mask_all = (hti[:, :, 0] > 0) * (xi[:, 0] > 0)[:, None]\n",
        "        # if length of the history is zero\n",
        "        if seq_len == 0:\n",
        "            return self._mu[xi[:, 1].long()]                                    # [ batch_size ]\n",
        "\n",
        "        xi2  = xi.unsqueeze(-2).repeat(1, seq_len, 1)                           # [ batch_size, seq_len, data_dim ]\n",
        "        K    = self.kernel(xi2.reshape(-1, self.data_dim),\n",
        "                           hti.reshape(-1, self.data_dim)).reshape(batch_size, seq_len)                                           \n",
        "                                                                                # [ batch_size, seq_len ]\n",
        "        lami = (K * mask_all).sum(-1) + self._mu[xi[:, 1].long()]                                 \n",
        "                                                                                # [ batch_size ]\n",
        "        return lami             # [ batch_size ]\n",
        "\n",
        "    def log_likelihood(self, X):\n",
        "        \"\"\"\n",
        "        return log-likelihood given sequence X\n",
        "        Args:\n",
        "        - X:      input points sequence [ batch_size, seq_len, data_dim ]\n",
        "        Return:\n",
        "        - lams:   sequence of lambda    [ batch_size, seq_len ]\n",
        "        - loglik: log-likelihood        scalar\n",
        "        \"\"\"\n",
        "        \n",
        "        raise NotImplementedError()\n",
        "\n",
        "    def forward(self, X):\n",
        "        \"\"\"\n",
        "        custom forward function returning conditional intensities and corresponding log-likelihood\n",
        "        \"\"\"\n",
        "        # return conditional intensities and corresponding log-likelihood\n",
        "        return self.log_likelihood(X)\n",
        "\n",
        "    # def mu(self):\n",
        "    #     \"\"\"\n",
        "    #     return base intensity\n",
        "    #     \"\"\"\n",
        "    #     raise NotImplementedError()\n",
        "\n",
        "\n",
        "\n",
        "class MultivariateExponentialHawkes(BasePointProcess):\n",
        "    \"\"\"\n",
        "    PyTorch Module for Multivariate Temporal Point Process\n",
        "    \"\"\"\n",
        "    def __init__(self, T, mu, alphas, beta, data_dim, device):\n",
        "        \"\"\"\n",
        "        data dim = 5(time, x, y, type)\n",
        "\n",
        "        Args:\n",
        "        \"\"\"\n",
        "        super(MultivariateExponentialHawkes, self).__init__(T, mu, data_dim, device)\n",
        "        \n",
        "        # kernel\n",
        "        self.kernel = Multivariate_Exponential_Kernel(alphas, beta, device)\n",
        "        # # pre-compute\n",
        "        # self.data_transformation()\n",
        "\n",
        "    def log_likelihood(self, X):\n",
        "        \"\"\"\n",
        "        return log-likelihood given sequence X\n",
        "        Args:\n",
        "        - X:      input points sequence [ batch_size, seq_len, data_dim ]\n",
        "        Return:\n",
        "        - lams:   sequence of lambda    [ batch_size, seq_len ]\n",
        "        - loglik: log-likelihood        scalar\n",
        "        \"\"\"\n",
        "\n",
        "        batch_size, seq_len, _ = X.shape\n",
        "        ts       = X[:, :, 0].clone()\n",
        "        ms       = X[:, :, 1].clone().long()\n",
        "        mask     = ts > 0\n",
        "\n",
        "        lams     = [\n",
        "            self.cond_lambda(X[:, i, :].clone(), X[:, :i, :].clone())\n",
        "            for i in range(seq_len) ]\n",
        "        lams     = torch.stack(lams, dim=0).T                                   # [ batch_size, seq_len ]\n",
        "        ## log-likelihood\n",
        "        mask     = ts > 0                                                       # [ batch_size, seq_len ]\n",
        "        sumlog   = (torch.log(lams + 1e-8) * mask).sum()                        # [ seq_len ]\n",
        "\n",
        "        baserate = torch.sum(self._mu * (self.T[1] - self.T[0]))\n",
        "\n",
        "        temp_int = 1 - torch.exp(-self.kernel._beta[ms] * (self.T[1] - ts))            # [ batch_size, seq_len ]\n",
        "        alpha_int = self.kernel._alphas[:, ms].sum(0)\n",
        "        integ = alpha_int * temp_int * mask\n",
        "        integ = integ.sum()\n",
        "\n",
        "        loglik = sumlog - baserate - integ\n",
        "        \n",
        "        return loglik"
      ],
      "metadata": {
        "id": "1tT8YBBSzUqE"
      },
      "execution_count": 71,
      "outputs": []
    },
    {
      "cell_type": "markdown",
      "source": [
        "# Training Function"
      ],
      "metadata": {
        "id": "xRLGu2Vy7r-3"
      }
    },
    {
      "cell_type": "code",
      "source": [
        "def train(model,\n",
        "          train_data,\n",
        "          device,\n",
        "          modelname,\n",
        "          rootpath,\n",
        "          num_epochs=20, \n",
        "          lr=1e-4,\n",
        "          batch_size=5,\n",
        "          print_iter=2,\n",
        "          tol=1e-2,\n",
        "          testing=False,\n",
        "          test_data=None,\n",
        "          save_model=False):\n",
        "    \"\"\"training procedure for one epoch\"\"\"\n",
        "\n",
        "    clipper1  = NonNegativeClipper()\n",
        "    ##clipper2  = ProximityClipper(coords, k=k)\n",
        "    # NOTE: gradient for loss is expected to be None, \n",
        "    #       since it is not leaf node. (it's root node)\n",
        "\n",
        "    path = rootpath + \"/Results/saved_models/%s\" % modelname\n",
        "    \n",
        "    if save_model:\n",
        "        if os.path.exists(path): \n",
        "            print(\"Duplicated folder!\")\n",
        "            return None\n",
        "        else:\n",
        "            os.makedirs(path)\n",
        "\n",
        "    model.to(device)\n",
        "    optimizer = optim.Adadelta(model.parameters(), lr=lr)\n",
        "\n",
        "    best_lglk = -np.inf\n",
        "    prev_lglk = -np.inf\n",
        "    no_incre = 0\n",
        "    converge = 0\n",
        "    _lr = lr\n",
        "    n_batches = int(train_data.shape[0] / batch_size) # number of batches\n",
        "\n",
        "    train_llk = []\n",
        "    test_llk = []\n",
        "\n",
        "    for i in range(num_epochs):\n",
        "        try:\n",
        "            epoch_llk_loss = 0\n",
        "            epoch_l1_loss  = 0\n",
        "            optimizer.zero_grad()\n",
        "\n",
        "            for b in range(n_batches):\n",
        "                idx  = np.arange(batch_size * b, batch_size * (b + 1))\n",
        "                data = train_data[idx]\n",
        "                loglik = model(data.to(device))\n",
        "                loss      = - loglik\n",
        "\n",
        "                loss.backward()\n",
        "                optimizer.step()\n",
        "                model.apply(clipper1)\n",
        "            \n",
        "                epoch_llk_loss += loglik.item()\n",
        "            \n",
        "            event_num = (train_data[..., 0] > 0).sum()\n",
        "            event_llk = epoch_llk_loss / event_num\n",
        "\n",
        "            if (i+1) % print_iter == 0:\n",
        "                with torch.no_grad():\n",
        "                    test_loglik = model(test_data.to(device))\n",
        "                    test_event_num = (test_data[..., 0] > 0).sum()\n",
        "                    test_event_llk = test_loglik / test_event_num\n",
        "\n",
        "                train_llk.append(event_llk)\n",
        "                test_llk.append(test_event_llk)\n",
        "                print(\"[%s] Epoch: %d\\tTrain Loglik: %.3e\\t stag: %d converge: %d\" % (arrow.now(), \n",
        "                    i, \n",
        "                    event_llk,\n",
        "                    no_incre,\n",
        "                    converge))\n",
        "                print(\"[%s] Epoch: %d\\tTest Loglik: %.3e\" % (arrow.now(), \n",
        "                    i, \n",
        "                    test_event_llk))\n",
        "                \n",
        "            if event_llk > best_lglk:\n",
        "                best_lglk = event_llk\n",
        "                no_incre = 0\n",
        "            else:\n",
        "                no_incre += 1\n",
        "            if no_incre == 10:\n",
        "                print(\"Learning rate decrease!\")\n",
        "                _lr = _lr / 10\n",
        "                optimizer = optim.Adadelta(model.parameters(), lr=_lr)\n",
        "                no_incre = 0\n",
        "                # best_lglk = -np.inf\n",
        "            if np.abs(event_llk - prev_lglk) > tol:\n",
        "                converge = 0\n",
        "            else:\n",
        "                converge += 1\n",
        "\n",
        "            prev_lglk = event_llk\n",
        "            \n",
        "            if converge == 50:\n",
        "                return train_llk, test_llk\n",
        "\n",
        "            if save_model:\n",
        "                model.cpu()\n",
        "                torch.save(model.state_dict(), \"%s/%s-%d.pth\" % (path, modelname, i))\n",
        "                model.to(device)\n",
        "\n",
        "        except KeyboardInterrupt:\n",
        "            break\n",
        "    \n",
        "    return train_llk, test_llk\n",
        "\n",
        "\n",
        "class NonNegativeClipper(object):\n",
        "    \"\"\"\n",
        "    References:\n",
        "    https://discuss.pytorch.org/t/restrict-range-of-variable-during-gradient-descent/1933\n",
        "    https://discuss.pytorch.org/t/set-constraints-on-parameters-or-layers/23620/3\n",
        "    \"\"\"\n",
        "\n",
        "    def __init__(self):\n",
        "        pass\n",
        "\n",
        "    def __call__(self, module):\n",
        "        \"\"\"enforce non-negative constraints\"\"\"\n",
        "        if hasattr(module, '_mu'):\n",
        "            _mu = module._mu.data\n",
        "            module._mu.data = torch.clamp(_mu, min=0.)\n",
        "        # Multivariate Hawkes\n",
        "        if hasattr(module, '_alphas'):\n",
        "            _alphas = module._alphas.data\n",
        "            module._alphas.data = torch.clamp(_alphas, min=1e-5)\n",
        "        if hasattr(module, '_beta'):\n",
        "            _beta  = module._beta.data\n",
        "            module._beta.data  = torch.clamp(_beta, min=1e-5)"
      ],
      "metadata": {
        "id": "atDQ4YEz6yt_"
      },
      "execution_count": 79,
      "outputs": []
    },
    {
      "cell_type": "code",
      "source": [],
      "metadata": {
        "id": "C4Qh4G_eIY-c"
      },
      "execution_count": null,
      "outputs": []
    },
    {
      "cell_type": "markdown",
      "source": [
        "# Data Loading"
      ],
      "metadata": {
        "id": "So5GQPfxLFdA"
      }
    },
    {
      "cell_type": "code",
      "source": [
        "rootpath = \"/content/drive/MyDrive/CSE8803_DSE\"\n",
        "device = torch.device(\"cuda:0\" if torch.cuda.is_available() else \"cpu\")"
      ],
      "metadata": {
        "id": "2RN1CBuALGrL"
      },
      "execution_count": 58,
      "outputs": []
    },
    {
      "cell_type": "code",
      "source": [
        "train_raw_data = np.load(rootpath + \"/data/train.npy\", allow_pickle=True)\n",
        "test_raw_data = np.load(rootpath + \"/data/test.npy\", allow_pickle=True)"
      ],
      "metadata": {
        "id": "G0vgKrJ9LPi0"
      },
      "execution_count": 59,
      "outputs": []
    },
    {
      "cell_type": "code",
      "source": [
        "train_data_list = []\n",
        "for i in range(4):\n",
        "    dat = train_raw_data[0][i]\n",
        "    mask = dat[:, 0] > 0\n",
        "    dat[:, 0] = (dat[:, 0] - i * 50) * mask\n",
        "    train_data_list.append(dat)\n",
        "train_data = np.stack(train_data_list, axis=0)\n",
        "\n",
        "dat_test  = test_raw_data[0, 0]\n",
        "dat_test[:, 0] = dat_test[:, 0] - 200\n",
        "test_data = np.expand_dims(dat_test, axis=0)"
      ],
      "metadata": {
        "id": "R2MzFBB3LYf-"
      },
      "execution_count": 60,
      "outputs": []
    },
    {
      "cell_type": "code",
      "source": [
        "test_data.shape"
      ],
      "metadata": {
        "colab": {
          "base_uri": "https://localhost:8080/"
        },
        "id": "BFqPAAwmNEsj",
        "outputId": "3918dcc6-be58-4393-ec67-37f2af7b9687"
      },
      "execution_count": 62,
      "outputs": [
        {
          "output_type": "execute_result",
          "data": {
            "text/plain": [
              "(1, 202, 2)"
            ]
          },
          "metadata": {},
          "execution_count": 62
        }
      ]
    },
    {
      "cell_type": "code",
      "source": [],
      "metadata": {
        "id": "wAgy9zWeO0VQ"
      },
      "execution_count": null,
      "outputs": []
    },
    {
      "cell_type": "markdown",
      "source": [
        "# Model Training"
      ],
      "metadata": {
        "id": "kVALX7t0O9K9"
      }
    },
    {
      "cell_type": "code",
      "source": [
        "############### Training without regularization ################\n",
        "\n",
        "seed = 500\n",
        "torch.random.manual_seed(seed)\n",
        "np.random.seed(seed)\n",
        "random.seed(seed)\n",
        "\n",
        "# training configurations\n",
        "batch_size = 4\n",
        "num_epochs = 1000\n",
        "lr         = 1e0\n",
        "modelname  = \"Toy-%d\" % seed\n",
        "\n",
        "# model configurations\n",
        "T          = np.array([0., 50.])\n",
        "data_dim   = 2\n",
        "device     = torch.device(\"cuda:0\" if torch.cuda.is_available() else \"cpu\")\n",
        "n_class = 11\n",
        "\n",
        "mask = train_data[:, :, 0] > 0\n",
        "v, c = np.unique(train_data[mask][:, 0], return_counts=True)\n",
        "mu = c / train_data.shape[0] / 50 / 10\n",
        "print(mu)\n",
        "\n",
        "alphas = np.random.uniform(low=0.0, high=1.0, size=(n_class, n_class))\n",
        "beta   = np.random.uniform(low=0.0, high=1.0, size=(n_class))\n",
        "\n",
        "init_model = MultivariateExponentialHawkes(T=T, mu=mu, alphas=alphas, beta=beta,\n",
        "                                           data_dim=data_dim, device=device)\n",
        "# init_model.load_state_dict(torch.load(\"/content/drive/MyDrive/Neural_Kernel/Deep_Fourier_Kernel/Results/saved_models/%s_stone12/%s-99.pth\" % (modelname, modelname)))\n",
        "\n",
        "train_data = torch.FloatTensor(train_data)\n",
        "test_data  = torch.FloatTensor(test_data)\n",
        "# # # define point process generator and generator synthetic data\n",
        "# # generator  = TemporalPointProcessGenerator(trg_model, upper_bound=1e+2)\n",
        "# # data, size = generator.generate(T=T, batch_size=2000, min_n_points=5, verbose=False)\n",
        "# # np.save(\"%s/data-1d-n2000_exponential_targetmodel-%d.npy\" % (rootpath, seed), data)\n",
        "# # print(data.shape)\n",
        "\n",
        "# training data preparation\n",
        "# train_dataset = TensorDataset(train_data)\n",
        "# train_loader  = DataLoader(train_dataset, batch_size=batch_size, shuffle=True)\n",
        "\n",
        "# training\n",
        "train_llk, test_llk = train(init_model, train_data, device=device,\n",
        "            modelname=modelname, rootpath=rootpath,\n",
        "            num_epochs=num_epochs, lr=lr, batch_size=batch_size,\n",
        "            print_iter=10, tol=1e-4, testing=True, test_data=test_data, save_model=False)"
      ],
      "metadata": {
        "colab": {
          "base_uri": "https://localhost:8080/"
        },
        "id": "btTPjjHOO-fM",
        "outputId": "d377294a-a40d-47eb-8b4a-f20cd6a1463a"
      },
      "execution_count": 87,
      "outputs": [
        {
          "output_type": "stream",
          "name": "stdout",
          "text": [
            "[0.009  0.009  0.008  0.012  0.009  0.008  0.0095 0.011  0.0095 0.0095\n",
            " 0.01   0.008  0.0095 0.011  0.006  0.011  0.0045 0.011  0.0135 0.008\n",
            " 0.0105 0.0075 0.0125 0.0075 0.0095 0.012  0.0065 0.007  0.007  0.008\n",
            " 0.0065 0.01   0.0065 0.008  0.005  0.008  0.008  0.006  0.006  0.0055\n",
            " 0.0065 0.0055 0.005  0.007  0.0065 0.0095 0.0045 0.0155 0.0055 0.0125]\n",
            "[2022-11-25T19:40:48.356103+00:00] Epoch: 9\tTrain Loglik: -4.723e+00\t stag: 0 converge: 0\n",
            "[2022-11-25T19:40:48.356384+00:00] Epoch: 9\tTest Loglik: -4.872e+00\n",
            "[2022-11-25T19:40:49.400577+00:00] Epoch: 19\tTrain Loglik: -4.051e+00\t stag: 0 converge: 0\n",
            "[2022-11-25T19:40:49.400846+00:00] Epoch: 19\tTest Loglik: -4.172e+00\n",
            "[2022-11-25T19:40:50.599309+00:00] Epoch: 29\tTrain Loglik: -3.791e+00\t stag: 0 converge: 0\n",
            "[2022-11-25T19:40:50.599598+00:00] Epoch: 29\tTest Loglik: -3.912e+00\n",
            "[2022-11-25T19:40:51.646993+00:00] Epoch: 39\tTrain Loglik: -3.376e+00\t stag: 0 converge: 0\n",
            "[2022-11-25T19:40:51.647299+00:00] Epoch: 39\tTest Loglik: -3.505e+00\n",
            "[2022-11-25T19:40:52.712707+00:00] Epoch: 49\tTrain Loglik: -2.935e+00\t stag: 0 converge: 0\n",
            "[2022-11-25T19:40:52.712987+00:00] Epoch: 49\tTest Loglik: -3.006e+00\n",
            "[2022-11-25T19:40:53.788976+00:00] Epoch: 59\tTrain Loglik: -2.618e+00\t stag: 0 converge: 0\n",
            "[2022-11-25T19:40:53.789263+00:00] Epoch: 59\tTest Loglik: -2.699e+00\n",
            "[2022-11-25T19:40:54.830816+00:00] Epoch: 69\tTrain Loglik: -2.477e+00\t stag: 0 converge: 0\n",
            "[2022-11-25T19:40:54.831108+00:00] Epoch: 69\tTest Loglik: -2.547e+00\n",
            "[2022-11-25T19:40:55.885163+00:00] Epoch: 79\tTrain Loglik: -2.156e+00\t stag: 0 converge: 0\n",
            "[2022-11-25T19:40:55.885986+00:00] Epoch: 79\tTest Loglik: -2.359e+00\n",
            "[2022-11-25T19:40:56.934615+00:00] Epoch: 89\tTrain Loglik: -2.418e+00\t stag: 0 converge: 0\n",
            "[2022-11-25T19:40:56.935735+00:00] Epoch: 89\tTest Loglik: -2.208e+00\n",
            "[2022-11-25T19:40:58.091576+00:00] Epoch: 99\tTrain Loglik: -2.044e+00\t stag: 1 converge: 0\n",
            "[2022-11-25T19:40:58.092607+00:00] Epoch: 99\tTest Loglik: -2.165e+00\n",
            "[2022-11-25T19:40:59.147047+00:00] Epoch: 109\tTrain Loglik: -2.386e+00\t stag: 4 converge: 0\n",
            "[2022-11-25T19:40:59.147325+00:00] Epoch: 109\tTest Loglik: -2.366e+00\n",
            "Learning rate decrease!\n",
            "[2022-11-25T19:41:00.247141+00:00] Epoch: 119\tTrain Loglik: -2.021e+00\t stag: 4 converge: 0\n",
            "[2022-11-25T19:41:00.248035+00:00] Epoch: 119\tTest Loglik: -2.079e+00\n",
            "[2022-11-25T19:41:01.303718+00:00] Epoch: 129\tTrain Loglik: -2.013e+00\t stag: 0 converge: 0\n",
            "[2022-11-25T19:41:01.304756+00:00] Epoch: 129\tTest Loglik: -2.073e+00\n",
            "[2022-11-25T19:41:02.487835+00:00] Epoch: 139\tTrain Loglik: -2.006e+00\t stag: 0 converge: 0\n",
            "[2022-11-25T19:41:02.488891+00:00] Epoch: 139\tTest Loglik: -2.068e+00\n",
            "[2022-11-25T19:41:03.683959+00:00] Epoch: 149\tTrain Loglik: -1.999e+00\t stag: 0 converge: 0\n",
            "[2022-11-25T19:41:03.684230+00:00] Epoch: 149\tTest Loglik: -2.062e+00\n",
            "[2022-11-25T19:41:04.742066+00:00] Epoch: 159\tTrain Loglik: -1.992e+00\t stag: 0 converge: 0\n",
            "[2022-11-25T19:41:04.742880+00:00] Epoch: 159\tTest Loglik: -2.057e+00\n",
            "[2022-11-25T19:41:05.808624+00:00] Epoch: 169\tTrain Loglik: -1.984e+00\t stag: 0 converge: 0\n",
            "[2022-11-25T19:41:05.809817+00:00] Epoch: 169\tTest Loglik: -2.050e+00\n",
            "[2022-11-25T19:41:07.324209+00:00] Epoch: 179\tTrain Loglik: -1.976e+00\t stag: 0 converge: 0\n",
            "[2022-11-25T19:41:07.329907+00:00] Epoch: 179\tTest Loglik: -2.044e+00\n",
            "[2022-11-25T19:41:09.398146+00:00] Epoch: 189\tTrain Loglik: -1.969e+00\t stag: 0 converge: 0\n",
            "[2022-11-25T19:41:09.398424+00:00] Epoch: 189\tTest Loglik: -2.039e+00\n",
            "[2022-11-25T19:41:10.436090+00:00] Epoch: 199\tTrain Loglik: -1.965e+00\t stag: 0 converge: 0\n",
            "[2022-11-25T19:41:10.436887+00:00] Epoch: 199\tTest Loglik: -2.036e+00\n",
            "[2022-11-25T19:41:11.481787+00:00] Epoch: 209\tTrain Loglik: -1.962e+00\t stag: 0 converge: 0\n",
            "[2022-11-25T19:41:11.482870+00:00] Epoch: 209\tTest Loglik: -2.034e+00\n",
            "[2022-11-25T19:41:12.552967+00:00] Epoch: 219\tTrain Loglik: -1.958e+00\t stag: 0 converge: 0\n",
            "[2022-11-25T19:41:12.553249+00:00] Epoch: 219\tTest Loglik: -2.033e+00\n",
            "[2022-11-25T19:41:13.602562+00:00] Epoch: 229\tTrain Loglik: -1.955e+00\t stag: 0 converge: 0\n",
            "[2022-11-25T19:41:13.602841+00:00] Epoch: 229\tTest Loglik: -2.031e+00\n",
            "[2022-11-25T19:41:14.647172+00:00] Epoch: 239\tTrain Loglik: -1.952e+00\t stag: 0 converge: 0\n",
            "[2022-11-25T19:41:14.647454+00:00] Epoch: 239\tTest Loglik: -2.030e+00\n",
            "[2022-11-25T19:41:15.688456+00:00] Epoch: 249\tTrain Loglik: -1.949e+00\t stag: 0 converge: 0\n",
            "[2022-11-25T19:41:15.688754+00:00] Epoch: 249\tTest Loglik: -2.028e+00\n",
            "[2022-11-25T19:41:16.729664+00:00] Epoch: 259\tTrain Loglik: -1.946e+00\t stag: 0 converge: 0\n",
            "[2022-11-25T19:41:16.729948+00:00] Epoch: 259\tTest Loglik: -2.027e+00\n",
            "[2022-11-25T19:41:17.789485+00:00] Epoch: 269\tTrain Loglik: -1.943e+00\t stag: 0 converge: 0\n",
            "[2022-11-25T19:41:17.790656+00:00] Epoch: 269\tTest Loglik: -2.025e+00\n",
            "[2022-11-25T19:41:18.852217+00:00] Epoch: 279\tTrain Loglik: -1.940e+00\t stag: 0 converge: 0\n",
            "[2022-11-25T19:41:18.852535+00:00] Epoch: 279\tTest Loglik: -2.025e+00\n",
            "[2022-11-25T19:41:19.923406+00:00] Epoch: 289\tTrain Loglik: -1.937e+00\t stag: 0 converge: 0\n",
            "[2022-11-25T19:41:19.923713+00:00] Epoch: 289\tTest Loglik: -2.023e+00\n",
            "[2022-11-25T19:41:21.024159+00:00] Epoch: 299\tTrain Loglik: -1.935e+00\t stag: 0 converge: 0\n",
            "[2022-11-25T19:41:21.024438+00:00] Epoch: 299\tTest Loglik: -2.021e+00\n",
            "[2022-11-25T19:41:22.107947+00:00] Epoch: 309\tTrain Loglik: -1.932e+00\t stag: 0 converge: 0\n",
            "[2022-11-25T19:41:22.108672+00:00] Epoch: 309\tTest Loglik: -2.019e+00\n",
            "[2022-11-25T19:41:23.182182+00:00] Epoch: 319\tTrain Loglik: -1.930e+00\t stag: 0 converge: 0\n",
            "[2022-11-25T19:41:23.182622+00:00] Epoch: 319\tTest Loglik: -2.017e+00\n",
            "[2022-11-25T19:41:24.238592+00:00] Epoch: 329\tTrain Loglik: -1.927e+00\t stag: 0 converge: 0\n",
            "[2022-11-25T19:41:24.238866+00:00] Epoch: 329\tTest Loglik: -2.015e+00\n",
            "[2022-11-25T19:41:25.298188+00:00] Epoch: 339\tTrain Loglik: -1.924e+00\t stag: 0 converge: 0\n",
            "[2022-11-25T19:41:25.298757+00:00] Epoch: 339\tTest Loglik: -2.013e+00\n",
            "[2022-11-25T19:41:26.416663+00:00] Epoch: 349\tTrain Loglik: -1.921e+00\t stag: 0 converge: 0\n",
            "[2022-11-25T19:41:26.417812+00:00] Epoch: 349\tTest Loglik: -2.010e+00\n",
            "[2022-11-25T19:41:27.471596+00:00] Epoch: 359\tTrain Loglik: -1.918e+00\t stag: 0 converge: 0\n",
            "[2022-11-25T19:41:27.471868+00:00] Epoch: 359\tTest Loglik: -2.008e+00\n",
            "[2022-11-25T19:41:28.523930+00:00] Epoch: 369\tTrain Loglik: -1.915e+00\t stag: 0 converge: 0\n",
            "[2022-11-25T19:41:28.524220+00:00] Epoch: 369\tTest Loglik: -2.005e+00\n",
            "[2022-11-25T19:41:29.607055+00:00] Epoch: 379\tTrain Loglik: -1.912e+00\t stag: 0 converge: 0\n",
            "[2022-11-25T19:41:29.607337+00:00] Epoch: 379\tTest Loglik: -2.003e+00\n",
            "[2022-11-25T19:41:30.662922+00:00] Epoch: 389\tTrain Loglik: -1.908e+00\t stag: 0 converge: 0\n",
            "[2022-11-25T19:41:30.663215+00:00] Epoch: 389\tTest Loglik: -2.001e+00\n",
            "[2022-11-25T19:41:31.704625+00:00] Epoch: 399\tTrain Loglik: -1.905e+00\t stag: 0 converge: 0\n",
            "[2022-11-25T19:41:31.704904+00:00] Epoch: 399\tTest Loglik: -1.999e+00\n",
            "[2022-11-25T19:41:32.752864+00:00] Epoch: 409\tTrain Loglik: -1.901e+00\t stag: 0 converge: 0\n",
            "[2022-11-25T19:41:32.753159+00:00] Epoch: 409\tTest Loglik: -1.997e+00\n",
            "[2022-11-25T19:41:33.866919+00:00] Epoch: 419\tTrain Loglik: -1.898e+00\t stag: 0 converge: 0\n",
            "[2022-11-25T19:41:33.867203+00:00] Epoch: 419\tTest Loglik: -1.995e+00\n",
            "[2022-11-25T19:41:34.908531+00:00] Epoch: 429\tTrain Loglik: -1.895e+00\t stag: 0 converge: 0\n",
            "[2022-11-25T19:41:34.908823+00:00] Epoch: 429\tTest Loglik: -1.993e+00\n",
            "[2022-11-25T19:41:35.974916+00:00] Epoch: 439\tTrain Loglik: -1.892e+00\t stag: 0 converge: 0\n",
            "[2022-11-25T19:41:35.976059+00:00] Epoch: 439\tTest Loglik: -1.991e+00\n",
            "[2022-11-25T19:41:37.024236+00:00] Epoch: 449\tTrain Loglik: -1.889e+00\t stag: 0 converge: 0\n",
            "[2022-11-25T19:41:37.024543+00:00] Epoch: 449\tTest Loglik: -1.989e+00\n",
            "[2022-11-25T19:41:38.087100+00:00] Epoch: 459\tTrain Loglik: -1.886e+00\t stag: 0 converge: 0\n",
            "[2022-11-25T19:41:38.087380+00:00] Epoch: 459\tTest Loglik: -1.987e+00\n",
            "[2022-11-25T19:41:39.234480+00:00] Epoch: 469\tTrain Loglik: -1.883e+00\t stag: 0 converge: 0\n",
            "[2022-11-25T19:41:39.234779+00:00] Epoch: 469\tTest Loglik: -1.985e+00\n",
            "[2022-11-25T19:41:40.273633+00:00] Epoch: 479\tTrain Loglik: -1.880e+00\t stag: 0 converge: 0\n",
            "[2022-11-25T19:41:40.273915+00:00] Epoch: 479\tTest Loglik: -1.982e+00\n",
            "[2022-11-25T19:41:41.352745+00:00] Epoch: 489\tTrain Loglik: -1.877e+00\t stag: 0 converge: 0\n",
            "[2022-11-25T19:41:41.354287+00:00] Epoch: 489\tTest Loglik: -1.980e+00\n",
            "[2022-11-25T19:41:42.407335+00:00] Epoch: 499\tTrain Loglik: -1.875e+00\t stag: 0 converge: 1\n",
            "[2022-11-25T19:41:42.407623+00:00] Epoch: 499\tTest Loglik: -1.977e+00\n",
            "[2022-11-25T19:41:43.467723+00:00] Epoch: 509\tTrain Loglik: -1.872e+00\t stag: 1 converge: 0\n",
            "[2022-11-25T19:41:43.468878+00:00] Epoch: 509\tTest Loglik: -1.975e+00\n",
            "[2022-11-25T19:41:44.530915+00:00] Epoch: 519\tTrain Loglik: -1.870e+00\t stag: 1 converge: 0\n",
            "[2022-11-25T19:41:44.532061+00:00] Epoch: 519\tTest Loglik: -1.973e+00\n",
            "[2022-11-25T19:41:45.570847+00:00] Epoch: 529\tTrain Loglik: -1.869e+00\t stag: 1 converge: 0\n",
            "[2022-11-25T19:41:45.571883+00:00] Epoch: 529\tTest Loglik: -1.971e+00\n",
            "[2022-11-25T19:41:46.619478+00:00] Epoch: 539\tTrain Loglik: -1.867e+00\t stag: 1 converge: 0\n",
            "[2022-11-25T19:41:46.620713+00:00] Epoch: 539\tTest Loglik: -1.970e+00\n",
            "[2022-11-25T19:41:47.662084+00:00] Epoch: 549\tTrain Loglik: -1.865e+00\t stag: 1 converge: 0\n",
            "[2022-11-25T19:41:47.662908+00:00] Epoch: 549\tTest Loglik: -1.969e+00\n",
            "[2022-11-25T19:41:48.707968+00:00] Epoch: 559\tTrain Loglik: -1.863e+00\t stag: 1 converge: 0\n",
            "[2022-11-25T19:41:48.708757+00:00] Epoch: 559\tTest Loglik: -1.967e+00\n",
            "[2022-11-25T19:41:49.761030+00:00] Epoch: 569\tTrain Loglik: -1.860e+00\t stag: 1 converge: 0\n",
            "[2022-11-25T19:41:49.761336+00:00] Epoch: 569\tTest Loglik: -1.966e+00\n",
            "[2022-11-25T19:41:50.846788+00:00] Epoch: 579\tTrain Loglik: -1.857e+00\t stag: 0 converge: 0\n",
            "[2022-11-25T19:41:50.847066+00:00] Epoch: 579\tTest Loglik: -1.966e+00\n",
            "[2022-11-25T19:41:51.898524+00:00] Epoch: 589\tTrain Loglik: -1.855e+00\t stag: 0 converge: 0\n",
            "[2022-11-25T19:41:51.899606+00:00] Epoch: 589\tTest Loglik: -1.966e+00\n",
            "[2022-11-25T19:41:52.931255+00:00] Epoch: 599\tTrain Loglik: -1.853e+00\t stag: 0 converge: 0\n",
            "[2022-11-25T19:41:52.931561+00:00] Epoch: 599\tTest Loglik: -1.965e+00\n",
            "[2022-11-25T19:41:53.998016+00:00] Epoch: 609\tTrain Loglik: -1.851e+00\t stag: 0 converge: 0\n",
            "[2022-11-25T19:41:53.999556+00:00] Epoch: 609\tTest Loglik: -1.963e+00\n",
            "[2022-11-25T19:41:55.044348+00:00] Epoch: 619\tTrain Loglik: -1.849e+00\t stag: 0 converge: 0\n",
            "[2022-11-25T19:41:55.045419+00:00] Epoch: 619\tTest Loglik: -1.962e+00\n",
            "[2022-11-25T19:41:56.094482+00:00] Epoch: 629\tTrain Loglik: -1.847e+00\t stag: 0 converge: 0\n",
            "[2022-11-25T19:41:56.095711+00:00] Epoch: 629\tTest Loglik: -1.961e+00\n",
            "[2022-11-25T19:41:57.244064+00:00] Epoch: 639\tTrain Loglik: -1.845e+00\t stag: 0 converge: 0\n",
            "[2022-11-25T19:41:57.244340+00:00] Epoch: 639\tTest Loglik: -1.960e+00\n",
            "[2022-11-25T19:41:58.303135+00:00] Epoch: 649\tTrain Loglik: -1.843e+00\t stag: 0 converge: 0\n",
            "[2022-11-25T19:41:58.303410+00:00] Epoch: 649\tTest Loglik: -1.959e+00\n",
            "[2022-11-25T19:41:59.364787+00:00] Epoch: 659\tTrain Loglik: -1.840e+00\t stag: 0 converge: 0\n",
            "[2022-11-25T19:41:59.365070+00:00] Epoch: 659\tTest Loglik: -1.958e+00\n",
            "[2022-11-25T19:42:00.426362+00:00] Epoch: 669\tTrain Loglik: -1.838e+00\t stag: 0 converge: 0\n",
            "[2022-11-25T19:42:00.427692+00:00] Epoch: 669\tTest Loglik: -1.956e+00\n",
            "[2022-11-25T19:42:01.468344+00:00] Epoch: 679\tTrain Loglik: -1.836e+00\t stag: 0 converge: 0\n",
            "[2022-11-25T19:42:01.468639+00:00] Epoch: 679\tTest Loglik: -1.955e+00\n",
            "[2022-11-25T19:42:02.516766+00:00] Epoch: 689\tTrain Loglik: -1.834e+00\t stag: 0 converge: 0\n",
            "[2022-11-25T19:42:02.517823+00:00] Epoch: 689\tTest Loglik: -1.954e+00\n",
            "[2022-11-25T19:42:03.563420+00:00] Epoch: 699\tTrain Loglik: -1.832e+00\t stag: 0 converge: 0\n",
            "[2022-11-25T19:42:03.563713+00:00] Epoch: 699\tTest Loglik: -1.952e+00\n",
            "[2022-11-25T19:42:04.730691+00:00] Epoch: 709\tTrain Loglik: -1.830e+00\t stag: 0 converge: 0\n",
            "[2022-11-25T19:42:04.730971+00:00] Epoch: 709\tTest Loglik: -1.950e+00\n",
            "[2022-11-25T19:42:05.802426+00:00] Epoch: 719\tTrain Loglik: -1.828e+00\t stag: 0 converge: 0\n",
            "[2022-11-25T19:42:05.802729+00:00] Epoch: 719\tTest Loglik: -1.949e+00\n",
            "[2022-11-25T19:42:06.876833+00:00] Epoch: 729\tTrain Loglik: -1.826e+00\t stag: 0 converge: 0\n",
            "[2022-11-25T19:42:06.877137+00:00] Epoch: 729\tTest Loglik: -1.947e+00\n",
            "[2022-11-25T19:42:07.957177+00:00] Epoch: 739\tTrain Loglik: -1.824e+00\t stag: 0 converge: 0\n",
            "[2022-11-25T19:42:07.957453+00:00] Epoch: 739\tTest Loglik: -1.946e+00\n",
            "[2022-11-25T19:42:09.141659+00:00] Epoch: 749\tTrain Loglik: -1.822e+00\t stag: 0 converge: 0\n",
            "[2022-11-25T19:42:09.141986+00:00] Epoch: 749\tTest Loglik: -1.944e+00\n",
            "[2022-11-25T19:42:10.209366+00:00] Epoch: 759\tTrain Loglik: -1.821e+00\t stag: 0 converge: 0\n",
            "[2022-11-25T19:42:10.210458+00:00] Epoch: 759\tTest Loglik: -1.943e+00\n",
            "[2022-11-25T19:42:11.255204+00:00] Epoch: 769\tTrain Loglik: -1.819e+00\t stag: 0 converge: 0\n",
            "[2022-11-25T19:42:11.255485+00:00] Epoch: 769\tTest Loglik: -1.941e+00\n",
            "[2022-11-25T19:42:12.326705+00:00] Epoch: 779\tTrain Loglik: -1.817e+00\t stag: 0 converge: 0\n",
            "[2022-11-25T19:42:12.328578+00:00] Epoch: 779\tTest Loglik: -1.939e+00\n",
            "[2022-11-25T19:42:13.417424+00:00] Epoch: 789\tTrain Loglik: -1.815e+00\t stag: 0 converge: 0\n",
            "[2022-11-25T19:42:13.418513+00:00] Epoch: 789\tTest Loglik: -1.938e+00\n",
            "[2022-11-25T19:42:14.460231+00:00] Epoch: 799\tTrain Loglik: -1.813e+00\t stag: 0 converge: 0\n",
            "[2022-11-25T19:42:14.460501+00:00] Epoch: 799\tTest Loglik: -1.936e+00\n",
            "[2022-11-25T19:42:15.572594+00:00] Epoch: 809\tTrain Loglik: -1.812e+00\t stag: 0 converge: 0\n",
            "[2022-11-25T19:42:15.572873+00:00] Epoch: 809\tTest Loglik: -1.935e+00\n",
            "[2022-11-25T19:42:16.618057+00:00] Epoch: 819\tTrain Loglik: -1.810e+00\t stag: 0 converge: 0\n",
            "[2022-11-25T19:42:16.618339+00:00] Epoch: 819\tTest Loglik: -1.933e+00\n",
            "[2022-11-25T19:42:17.667499+00:00] Epoch: 829\tTrain Loglik: -1.808e+00\t stag: 0 converge: 0\n",
            "[2022-11-25T19:42:17.668727+00:00] Epoch: 829\tTest Loglik: -1.931e+00\n",
            "[2022-11-25T19:42:18.716813+00:00] Epoch: 839\tTrain Loglik: -1.807e+00\t stag: 0 converge: 0\n",
            "[2022-11-25T19:42:18.717123+00:00] Epoch: 839\tTest Loglik: -1.930e+00\n",
            "[2022-11-25T19:42:19.759782+00:00] Epoch: 849\tTrain Loglik: -1.805e+00\t stag: 0 converge: 0\n",
            "[2022-11-25T19:42:19.760061+00:00] Epoch: 849\tTest Loglik: -1.928e+00\n",
            "[2022-11-25T19:42:20.811686+00:00] Epoch: 859\tTrain Loglik: -1.803e+00\t stag: 0 converge: 0\n",
            "[2022-11-25T19:42:20.811987+00:00] Epoch: 859\tTest Loglik: -1.927e+00\n",
            "[2022-11-25T19:42:21.855088+00:00] Epoch: 869\tTrain Loglik: -1.802e+00\t stag: 0 converge: 0\n",
            "[2022-11-25T19:42:21.855882+00:00] Epoch: 869\tTest Loglik: -1.925e+00\n",
            "[2022-11-25T19:42:22.902668+00:00] Epoch: 879\tTrain Loglik: -1.800e+00\t stag: 0 converge: 0\n",
            "[2022-11-25T19:42:22.902940+00:00] Epoch: 879\tTest Loglik: -1.923e+00\n",
            "[2022-11-25T19:42:23.939750+00:00] Epoch: 889\tTrain Loglik: -1.799e+00\t stag: 0 converge: 0\n",
            "[2022-11-25T19:42:23.940798+00:00] Epoch: 889\tTest Loglik: -1.922e+00\n",
            "[2022-11-25T19:42:24.988493+00:00] Epoch: 899\tTrain Loglik: -1.797e+00\t stag: 0 converge: 0\n",
            "[2022-11-25T19:42:24.989653+00:00] Epoch: 899\tTest Loglik: -1.920e+00\n",
            "[2022-11-25T19:42:27.442107+00:00] Epoch: 909\tTrain Loglik: -1.795e+00\t stag: 0 converge: 0\n",
            "[2022-11-25T19:42:27.442960+00:00] Epoch: 909\tTest Loglik: -1.918e+00\n",
            "[2022-11-25T19:42:28.502163+00:00] Epoch: 919\tTrain Loglik: -1.794e+00\t stag: 0 converge: 0\n",
            "[2022-11-25T19:42:28.502971+00:00] Epoch: 919\tTest Loglik: -1.917e+00\n",
            "[2022-11-25T19:42:29.591987+00:00] Epoch: 929\tTrain Loglik: -1.792e+00\t stag: 0 converge: 0\n",
            "[2022-11-25T19:42:29.592787+00:00] Epoch: 929\tTest Loglik: -1.915e+00\n",
            "[2022-11-25T19:42:30.632302+00:00] Epoch: 939\tTrain Loglik: -1.791e+00\t stag: 0 converge: 0\n",
            "[2022-11-25T19:42:30.633078+00:00] Epoch: 939\tTest Loglik: -1.913e+00\n",
            "[2022-11-25T19:42:31.712721+00:00] Epoch: 949\tTrain Loglik: -1.790e+00\t stag: 0 converge: 0\n",
            "[2022-11-25T19:42:31.713008+00:00] Epoch: 949\tTest Loglik: -1.912e+00\n",
            "[2022-11-25T19:42:32.761820+00:00] Epoch: 959\tTrain Loglik: -1.788e+00\t stag: 0 converge: 0\n",
            "[2022-11-25T19:42:32.762870+00:00] Epoch: 959\tTest Loglik: -1.910e+00\n",
            "[2022-11-25T19:42:33.820471+00:00] Epoch: 969\tTrain Loglik: -1.787e+00\t stag: 0 converge: 0\n",
            "[2022-11-25T19:42:33.821643+00:00] Epoch: 969\tTest Loglik: -1.908e+00\n",
            "[2022-11-25T19:42:34.885002+00:00] Epoch: 979\tTrain Loglik: -1.785e+00\t stag: 0 converge: 0\n",
            "[2022-11-25T19:42:34.885294+00:00] Epoch: 979\tTest Loglik: -1.906e+00\n",
            "[2022-11-25T19:42:36.003457+00:00] Epoch: 989\tTrain Loglik: -1.784e+00\t stag: 0 converge: 0\n",
            "[2022-11-25T19:42:36.003749+00:00] Epoch: 989\tTest Loglik: -1.904e+00\n",
            "[2022-11-25T19:42:37.068238+00:00] Epoch: 999\tTrain Loglik: -1.782e+00\t stag: 0 converge: 0\n",
            "[2022-11-25T19:42:37.069346+00:00] Epoch: 999\tTest Loglik: -1.903e+00\n"
          ]
        }
      ]
    },
    {
      "cell_type": "code",
      "source": [
        "plt.imshow(init_model.kernel._alphas.detach().numpy())"
      ],
      "metadata": {
        "colab": {
          "base_uri": "https://localhost:8080/",
          "height": 283
        },
        "id": "6uUxChZZQOSn",
        "outputId": "3afd13ec-2522-4eb0-9a91-a7cfb8283e1b"
      },
      "execution_count": 88,
      "outputs": [
        {
          "output_type": "execute_result",
          "data": {
            "text/plain": [
              "<matplotlib.image.AxesImage at 0x7ff806e30bd0>"
            ]
          },
          "metadata": {},
          "execution_count": 88
        },
        {
          "output_type": "display_data",
          "data": {
            "text/plain": [
              "<Figure size 432x288 with 1 Axes>"
            ],
            "image/png": "[encoded data removed]"
          },
          "metadata": {
            "needs_background": "light"
          }
        }
      ]
    },
    {
      "cell_type": "markdown",
      "source": [],
      "metadata": {
        "id": "l9NyB1WOVn4y"
      }
    },
    {
      "cell_type": "code",
      "source": [
        "plt.plot(init_model.kernel._beta.detach().numpy())"
      ],
      "metadata": {
        "colab": {
          "base_uri": "https://localhost:8080/",
          "height": 283
        },
        "id": "s8KZdTntSxll",
        "outputId": "3b815d1d-a9c2-47e6-fcf5-34c8bd360405"
      },
      "execution_count": 89,
      "outputs": [
        {
          "output_type": "execute_result",
          "data": {
            "text/plain": [
              "[<matplotlib.lines.Line2D at 0x7ff806892950>]"
            ]
          },
          "metadata": {},
          "execution_count": 89
        },
        {
          "output_type": "display_data",
          "data": {
            "text/plain": [
              "<Figure size 432x288 with 1 Axes>"
            ],
            "image/png": "[encoded data removed]"
          },
          "metadata": {
            "needs_background": "light"
          }
        }
      ]
    },
    {
      "cell_type": "code",
      "source": [
        "init_model.kernel._beta.detach().numpy()"
      ],
      "metadata": {
        "colab": {
          "base_uri": "https://localhost:8080/"
        },
        "id": "d7r1iibES9CN",
        "outputId": "9f31fa59-2fd3-487a-af55-422792048a96"
      },
      "execution_count": 90,
      "outputs": [
        {
          "output_type": "execute_result",
          "data": {
            "text/plain": [
              "array([3.33075412e-01, 1.00000000e-05, 1.00000000e-05, 8.17423661e-03,\n",
              "       3.42687872e+00, 8.24890602e-01, 6.96250672e-03, 1.75350690e-03,\n",
              "       3.76325095e+00, 3.12796746e-01, 1.00000000e-05])"
            ]
          },
          "metadata": {},
          "execution_count": 90
        }
      ]
    },
    {
      "cell_type": "code",
      "source": [],
      "metadata": {
        "id": "yY3UPpw6UaTP"
      },
      "execution_count": null,
      "outputs": []
    }
  ]
}